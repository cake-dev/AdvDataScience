{
    "cells": [
     {
      "cell_type": "markdown",
      "id": "73428d07",
      "metadata": {},
      "source": [
       "#  Linear Models and Regularization Methods\n",
       "\n",
       "<a target=\"_blank\" href=\"https://colab.research.google.com/github/intro-stat-learning/ISLP_labs/blob/v2/Ch06-varselect-lab.ipynb\">\n",
       "  <img src=\"https://colab.research.google.com/assets/colab-badge.svg\" alt=\"Open In Colab\"/>\n",
       "\n",
       "</a>\n",
       "\n",
       "[![Binder](https://mybinder.org/badge_logo.svg)](https://mybinder.org/v2/gh/intro-stat-learning/ISLP_labs/v2?labpath=Ch06-varselect-lab.ipynb)\n",
       "\n",
       "\n",
       "In this lab we implement many of the techniques discussed in this chapter.\n",
       "We import some of our libraries at this top\n",
       "level."
      ]
     },
     {
      "cell_type": "code",
      "execution_count": null,
      "id": "a121caba",
      "metadata": {
       "execution": {
        "iopub.execute_input": "2023-08-07T00:18:44.204900Z",
        "iopub.status.busy": "2023-08-07T00:18:44.204597Z",
        "iopub.status.idle": "2023-08-07T00:18:45.249909Z",
        "shell.execute_reply": "2023-08-07T00:18:45.249340Z"
       }
      },
      "outputs": [],
      "source": [
       "import numpy as np\n",
       "import pandas as pd\n",
       "from matplotlib.pyplot import subplots\n",
       "from statsmodels.api import OLS\n",
       "import sklearn.model_selection as skm\n",
       "import sklearn.linear_model as skl\n",
       "from sklearn.preprocessing import StandardScaler\n",
       "from ISLP import load_data\n",
       "from ISLP.models import ModelSpec as MS\n",
       "from functools import partial"
      ]
     },
     {
      "cell_type": "markdown",
      "id": "b846a10e",
      "metadata": {},
      "source": [
       "We again collect the new imports\n",
       "needed for this lab."
      ]
     },
     {
      "cell_type": "code",
      "execution_count": null,
      "id": "91b5adfb",
      "metadata": {
       "execution": {
        "iopub.execute_input": "2023-08-07T00:18:45.252132Z",
        "iopub.status.busy": "2023-08-07T00:18:45.251877Z",
        "iopub.status.idle": "2023-08-07T00:18:47.137773Z",
        "shell.execute_reply": "2023-08-07T00:18:47.137409Z"
       }
      },
      "outputs": [],
      "source": [
       "from sklearn.pipeline import Pipeline\n",
       "from sklearn.decomposition import PCA\n",
       "from sklearn.cross_decomposition import PLSRegression\n",
       "from ISLP.models import \\\n",
       "     (Stepwise,\n",
       "      sklearn_selected,\n",
       "      sklearn_selection_path)\n",
       "!pip install l0bnb\n",
       "from l0bnb import fit_path"
      ]
     },
     {
      "cell_type": "markdown",
      "id": "d363de72",
      "metadata": {},
      "source": [
       "We have installed the package `l0bnb` on the fly. Note the escaped `!pip install` --- this is run as a separate system command. \n",
       "## Subset Selection Methods\n",
       "Here we implement methods that reduce the number of parameters in a\n",
       "model by restricting the model to a subset of the input variables.\n",
       "\n",
       "### Forward Selection\n",
       " \n",
       "We will  apply the forward-selection approach to the  `Hitters` \n",
       "data.  We wish to predict a baseball player’s `Salary` on the\n",
       "basis of various statistics associated with performance in the\n",
       "previous year.\n",
       "\n",
       "First of all, we note that the `Salary` variable is missing for\n",
       "some of the players.  The `np.isnan()`  function can be used to\n",
       "identify the missing observations. It returns an array\n",
       "of the same shape as the input vector, with a `True` for any elements that\n",
       "are missing, and a `False` for non-missing elements.  The\n",
       "`sum()`  method can then be used to count all of the\n",
       "missing elements."
      ]
     },
     {
      "cell_type": "code",
      "execution_count": null,
      "id": "01b6e940",
      "metadata": {
       "execution": {
        "iopub.execute_input": "2023-08-07T00:18:47.139552Z",
        "iopub.status.busy": "2023-08-07T00:18:47.139444Z",
        "iopub.status.idle": "2023-08-07T00:18:47.146678Z",
        "shell.execute_reply": "2023-08-07T00:18:47.146399Z"
       }
      },
      "outputs": [],
      "source": [
       "Hitters = load_data('Hitters')\n",
       "np.isnan(Hitters['Salary']).sum()"
      ]
     },
     {
      "cell_type": "markdown",
      "id": "409d79c0",
      "metadata": {},
      "source": [
       " We see that `Salary` is missing for 59 players. The\n",
       "`dropna()`  method of data frames removes all of the rows that have missing\n",
       "values in any variable (by default --- see  `Hitters.dropna?`)."
      ]
     },
     {
      "cell_type": "code",
      "execution_count": null,
      "id": "3472ea4b",
      "metadata": {
       "execution": {
        "iopub.execute_input": "2023-08-07T00:18:47.148220Z",
        "iopub.status.busy": "2023-08-07T00:18:47.148121Z",
        "iopub.status.idle": "2023-08-07T00:18:47.151465Z",
        "shell.execute_reply": "2023-08-07T00:18:47.151214Z"
       }
      },
      "outputs": [],
      "source": [
       "Hitters = Hitters.dropna();\n",
       "Hitters.shape"
      ]
     },
     {
      "cell_type": "markdown",
      "id": "b3a1b082",
      "metadata": {},
      "source": [
       "We first choose the best model using forward selection based on $C_p$ (6.2). This score\n",
       "is not built in as a metric to `sklearn`. We therefore define a function to compute it ourselves, and use\n",
       "it as a scorer. By default, `sklearn` tries to maximize a score, hence\n",
       "  our scoring function  computes the negative $C_p$ statistic."
      ]
     },
     {
      "cell_type": "code",
      "execution_count": null,
      "id": "4090cab5",
      "metadata": {
       "execution": {
        "iopub.execute_input": "2023-08-07T00:18:47.152892Z",
        "iopub.status.busy": "2023-08-07T00:18:47.152794Z",
        "iopub.status.idle": "2023-08-07T00:18:47.154727Z",
        "shell.execute_reply": "2023-08-07T00:18:47.154488Z"
       }
      },
      "outputs": [],
      "source": [
       "def nCp(sigma2, estimator, X, Y):\n",
       "    \"Negative Cp statistic\"\n",
       "    n, p = X.shape\n",
       "    Yhat = estimator.predict(X)\n",
       "    RSS = np.sum((Y - Yhat)**2)\n",
       "    return -(RSS + 2 * p * sigma2) / n "
      ]
     },
     {
      "cell_type": "markdown",
      "id": "c37b9aed",
      "metadata": {},
      "source": [
       "We need to estimate the residual variance $\\sigma^2$, which is the first argument in our scoring function above.\n",
       "We will fit the biggest model, using all the variables, and estimate $\\sigma^2$ based on its MSE."
      ]
     },
     {
      "cell_type": "code",
      "execution_count": null,
      "id": "2b85c1d6",
      "metadata": {
       "execution": {
        "iopub.execute_input": "2023-08-07T00:18:47.156205Z",
        "iopub.status.busy": "2023-08-07T00:18:47.156105Z",
        "iopub.status.idle": "2023-08-07T00:18:47.168871Z",
        "shell.execute_reply": "2023-08-07T00:18:47.168594Z"
       }
      },
      "outputs": [],
      "source": [
       "design = MS(Hitters.columns.drop('Salary')).fit(Hitters)\n",
       "Y = np.array(Hitters['Salary'])\n",
       "X = design.transform(Hitters)\n",
       "sigma2 = OLS(Y,X).fit().scale"
      ]
     },
     {
      "cell_type": "markdown",
      "id": "e8b97efd",
      "metadata": {},
      "source": [
       "The function `sklearn_selected()` expects a scorer with just three arguments --- the last three in the definition of `nCp()` above. We use the function `partial()` first seen in Section 5.3.3 to freeze the first argument with our estimate of $\\sigma^2$."
      ]
     },
     {
      "cell_type": "code",
      "execution_count": null,
      "id": "7c6f93c0",
      "metadata": {
       "execution": {
        "iopub.execute_input": "2023-08-07T00:18:47.170340Z",
        "iopub.status.busy": "2023-08-07T00:18:47.170256Z",
        "iopub.status.idle": "2023-08-07T00:18:47.171961Z",
        "shell.execute_reply": "2023-08-07T00:18:47.171723Z"
       }
      },
      "outputs": [],
      "source": [
       "neg_Cp = partial(nCp, sigma2)"
      ]
     },
     {
      "cell_type": "markdown",
      "id": "392e5247",
      "metadata": {},
      "source": [
       "We can now use `neg_Cp()` as a scorer for model selection."
      ]
     },
     {
      "cell_type": "markdown",
      "id": "47461c19",
      "metadata": {},
      "source": [
       "Along with a score we need to specify the search strategy. This is done through the object\n",
       "`Stepwise()`  in the `ISLP.models` package. The method `Stepwise.first_peak()`\n",
       "runs forward stepwise until any further additions to the model do not result\n",
       "in an improvement in the evaluation score. Similarly, the method `Stepwise.fixed_steps()`\n",
       "runs a fixed number of steps of stepwise search."
      ]
     },
     {
      "cell_type": "code",
      "execution_count": null,
      "id": "4b0d8d44",
      "metadata": {
       "execution": {
        "iopub.execute_input": "2023-08-07T00:18:47.173536Z",
        "iopub.status.busy": "2023-08-07T00:18:47.173432Z",
        "iopub.status.idle": "2023-08-07T00:18:47.175421Z",
        "shell.execute_reply": "2023-08-07T00:18:47.175172Z"
       }
      },
      "outputs": [],
      "source": [
       "strategy = Stepwise.first_peak(design,\n",
       "                               direction='forward',\n",
       "                               max_terms=len(design.terms))"
      ]
     },
     {
      "cell_type": "markdown",
      "id": "0f8a2102",
      "metadata": {},
      "source": [
       "We now fit a linear regression model with `Salary` as outcome using forward\n",
       "selection. To do so, we use the function `sklearn_selected()`  from the `ISLP.models` package. This takes\n",
       "a model from `statsmodels` along with a search strategy and selects a model with its\n",
       "`fit` method. Without specifying a `scoring` argument, the score defaults to MSE, and so all 19 variables will be\n",
       "selected."
      ]
     },
     {
      "cell_type": "code",
      "execution_count": null,
      "id": "6d3c1d1f",
      "metadata": {
       "execution": {
        "iopub.execute_input": "2023-08-07T00:18:47.177088Z",
        "iopub.status.busy": "2023-08-07T00:18:47.176968Z",
        "iopub.status.idle": "2023-08-07T00:18:47.826997Z",
        "shell.execute_reply": "2023-08-07T00:18:47.826667Z"
       }
      },
      "outputs": [],
      "source": [
       "hitters_MSE = sklearn_selected(OLS,\n",
       "                               strategy)\n",
       "hitters_MSE.fit(Hitters, Y)\n",
       "hitters_MSE.selected_state_"
      ]
     },
     {
      "cell_type": "markdown",
      "id": "cf1ad8eb",
      "metadata": {},
      "source": [
       "Using `neg_Cp` results in a smaller model, as expected, with just 10 variables selected."
      ]
     },
     {
      "cell_type": "code",
      "execution_count": null,
      "id": "5644971d",
      "metadata": {
       "execution": {
        "iopub.execute_input": "2023-08-07T00:18:47.828716Z",
        "iopub.status.busy": "2023-08-07T00:18:47.828606Z",
        "iopub.status.idle": "2023-08-07T00:18:48.249182Z",
        "shell.execute_reply": "2023-08-07T00:18:48.248894Z"
       }
      },
      "outputs": [],
      "source": [
       "hitters_Cp = sklearn_selected(OLS,\n",
       "                               strategy,\n",
       "                               scoring=neg_Cp)\n",
       "hitters_Cp.fit(Hitters, Y)\n",
       "hitters_Cp.selected_state_"
      ]
     },
     {
      "cell_type": "markdown",
      "id": "1db8634e",
      "metadata": {},
      "source": [
       "### Choosing Among Models Using the Validation Set Approach and Cross-Validation\n",
       " \n",
       "As an  alternative to using $C_p$, we might try cross-validation to select a model in forward selection. For this, we need a\n",
       "method that stores the full path of models found in forward selection, and allows predictions for each of these. This can be done with the `sklearn_selection_path()` \n",
       "estimator from `ISLP.models`. The function `cross_val_predict()` from `ISLP.models`\n",
       "computes the cross-validated predictions for each of the models\n",
       "along the path, which we can use to evaluate the cross-validated MSE\n",
       "along the path."
      ]
     },
     {
      "cell_type": "markdown",
      "id": "08bdcec5",
      "metadata": {},
      "source": [
       "Here we define a strategy that fits the full forward selection path.\n",
       "While there are various parameter choices for `sklearn_selection_path()`,\n",
       "we use the defaults here, which selects the model at each step based on the biggest reduction  in RSS."
      ]
     },
     {
      "cell_type": "code",
      "execution_count": null,
      "id": "23f47f58",
      "metadata": {
       "execution": {
        "iopub.execute_input": "2023-08-07T00:18:48.250933Z",
        "iopub.status.busy": "2023-08-07T00:18:48.250811Z",
        "iopub.status.idle": "2023-08-07T00:18:48.252764Z",
        "shell.execute_reply": "2023-08-07T00:18:48.252516Z"
       }
      },
      "outputs": [],
      "source": [
       "strategy = Stepwise.fixed_steps(design,\n",
       "                                len(design.terms),\n",
       "                                direction='forward')\n",
       "full_path = sklearn_selection_path(OLS, strategy)"
      ]
     },
     {
      "cell_type": "markdown",
      "id": "63e94493",
      "metadata": {},
      "source": [
       "We now fit the full forward-selection path on the `Hitters` data and compute the fitted values."
      ]
     },
     {
      "cell_type": "code",
      "execution_count": null,
      "id": "e8e0a90d",
      "metadata": {
       "execution": {
        "iopub.execute_input": "2023-08-07T00:18:48.254254Z",
        "iopub.status.busy": "2023-08-07T00:18:48.254157Z",
        "iopub.status.idle": "2023-08-07T00:18:48.649888Z",
        "shell.execute_reply": "2023-08-07T00:18:48.649593Z"
       }
      },
      "outputs": [],
      "source": [
       "full_path.fit(Hitters, Y)\n",
       "Yhat_in = full_path.predict(Hitters)\n",
       "Yhat_in.shape"
      ]
     },
     {
      "cell_type": "markdown",
      "id": "36008ae0",
      "metadata": {},
      "source": [
       "This gives us an array of fitted values --- 20 steps in all, including the fitted mean for the null model --- which we can use to evaluate\n",
       "in-sample MSE. As expected, the in-sample MSE improves each step we take,\n",
       "indicating we must use either the validation or cross-validation\n",
       "approach to select the number of steps. We fix the y-axis to range from\n",
       "50,000 to 250,000 to compare to the cross-validation and validation\n",
       "set MSE below, as well as other methods such as ridge regression, lasso and\n",
       "principal components regression."
      ]
     },
     {
      "cell_type": "code",
      "execution_count": null,
      "id": "4e44d7ad",
      "metadata": {
       "execution": {
        "iopub.execute_input": "2023-08-07T00:18:48.651510Z",
        "iopub.status.busy": "2023-08-07T00:18:48.651395Z",
        "iopub.status.idle": "2023-08-07T00:18:48.833910Z",
        "shell.execute_reply": "2023-08-07T00:18:48.833147Z"
       }
      },
      "outputs": [],
      "source": [
       "mse_fig, ax = subplots(figsize=(8,8))\n",
       "insample_mse = ((Yhat_in - Y[:,None])**2).mean(0)\n",
       "n_steps = insample_mse.shape[0]\n",
       "ax.plot(np.arange(n_steps),\n",
       "        insample_mse,\n",
       "        'k', # color black\n",
       "        label='In-sample')\n",
       "ax.set_ylabel('MSE',\n",
       "              fontsize=20)\n",
       "ax.set_xlabel('# steps of forward stepwise',\n",
       "              fontsize=20)\n",
       "ax.set_xticks(np.arange(n_steps)[::2])\n",
       "ax.legend()\n",
       "ax.set_ylim([50000,250000]);"
      ]
     },
     {
      "cell_type": "markdown",
      "id": "f0113aa5",
      "metadata": {},
      "source": [
       "Notice the expression `None` in `Y[:,None]` above.\n",
       "This adds an axis (dimension) to the one-dimensional array `Y`,\n",
       "which allows it to be recycled when subtracted from the two-dimensional `Yhat_in`."
      ]
     },
     {
      "cell_type": "markdown",
      "id": "e3daf6ac",
      "metadata": {},
      "source": [
       "We are now ready to use cross-validation to estimate test error along\n",
       "the model path. We must use *only the training observations* to perform all aspects of model-fitting --- including\n",
       "variable selection.  Therefore, the determination of which model of a\n",
       "given size is best must be made using \\emph{only the training\n",
       "  observations} in each training fold. This point is subtle but important.  If the full data\n",
       "set is used to select the best subset at each step, then the validation\n",
       "set errors and cross-validation errors that we obtain will not be\n",
       "accurate estimates of the test error.\n",
       "\n",
       "We now compute the cross-validated predicted values using 5-fold cross-validation."
      ]
     },
     {
      "cell_type": "code",
      "execution_count": null,
      "id": "c8b63bdf",
      "metadata": {
       "execution": {
        "iopub.execute_input": "2023-08-07T00:18:48.838207Z",
        "iopub.status.busy": "2023-08-07T00:18:48.837943Z",
        "iopub.status.idle": "2023-08-07T00:18:50.895034Z",
        "shell.execute_reply": "2023-08-07T00:18:50.894660Z"
       }
      },
      "outputs": [],
      "source": [
       "K = 5\n",
       "kfold = skm.KFold(K,\n",
       "                  random_state=0,\n",
       "                  shuffle=True)\n",
       "Yhat_cv = skm.cross_val_predict(full_path,\n",
       "                                Hitters,\n",
       "                                Y,\n",
       "                                cv=kfold)\n",
       "Yhat_cv.shape"
      ]
     },
     {
      "cell_type": "markdown",
      "id": "734ebc1a",
      "metadata": {},
      "source": [
       "`skm.cross_val_predict()`\n",
       "The prediction matrix `Yhat_cv` is the same shape as `Yhat_in`; the difference is that the predictions in each row, corresponding to a particular sample index, were made from models fit on a training fold that did not include that row.\n",
       "\n",
       "At each model along the path, we compute the MSE in each of the cross-validation folds.\n",
       "These we will average to get the  mean MSE, and can also use the individual values to compute a crude estimate of the standard error of the mean. {The estimate is crude because the five error estimates  are based on overlapping training sets, and hence are not independent.}\n",
       "Hence we must know the test indices for each cross-validation\n",
       "split. This can be found by using the `split()` method of `kfold`. Because\n",
       "we  fixed the random state above, whenever we split any array with the same\n",
       "number of rows as $Y$ we recover the same training and test indices, though we simply\n",
       "ignore the training indices below."
      ]
     },
     {
      "cell_type": "code",
      "execution_count": null,
      "id": "c2a5b743",
      "metadata": {
       "execution": {
        "iopub.execute_input": "2023-08-07T00:18:50.896773Z",
        "iopub.status.busy": "2023-08-07T00:18:50.896658Z",
        "iopub.status.idle": "2023-08-07T00:18:50.900262Z",
        "shell.execute_reply": "2023-08-07T00:18:50.899943Z"
       }
      },
      "outputs": [],
      "source": [
       "cv_mse = []\n",
       "for train_idx, test_idx in kfold.split(Y):\n",
       "    errors = (Yhat_cv[test_idx] - Y[test_idx,None])**2\n",
       "    cv_mse.append(errors.mean(0)) # column means\n",
       "cv_mse = np.array(cv_mse).T\n",
       "cv_mse.shape"
      ]
     },
     {
      "cell_type": "markdown",
      "id": "eeace224",
      "metadata": {},
      "source": [
       "We now add the cross-validation error estimates to our MSE plot.\n",
       "We include the mean error across the five folds, and the estimate of the standard error of the mean."
      ]
     },
     {
      "cell_type": "code",
      "execution_count": null,
      "id": "678b6284",
      "metadata": {
       "execution": {
        "iopub.execute_input": "2023-08-07T00:18:50.901906Z",
        "iopub.status.busy": "2023-08-07T00:18:50.901816Z",
        "iopub.status.idle": "2023-08-07T00:18:50.990180Z",
        "shell.execute_reply": "2023-08-07T00:18:50.989877Z"
       }
      },
      "outputs": [],
      "source": [
       "ax.errorbar(np.arange(n_steps), \n",
       "            cv_mse.mean(1),\n",
       "            cv_mse.std(1) / np.sqrt(K),\n",
       "            label='Cross-validated',\n",
       "            c='r') # color red\n",
       "ax.set_ylim([50000,250000])\n",
       "ax.legend()\n",
       "mse_fig"
      ]
     },
     {
      "cell_type": "markdown",
      "id": "5e27d9a1",
      "metadata": {},
      "source": [
       "To repeat the above using the validation set approach, we simply change our\n",
       "`cv` argument to a validation set: one random split of the data into a test and training. We choose a test size\n",
       "of 20%, similar to the size of each test set in 5-fold cross-validation.`skm.ShuffleSplit()`"
      ]
     },
     {
      "cell_type": "code",
      "execution_count": null,
      "id": "f55f5449",
      "metadata": {
       "execution": {
        "iopub.execute_input": "2023-08-07T00:18:50.991825Z",
        "iopub.status.busy": "2023-08-07T00:18:50.991711Z",
        "iopub.status.idle": "2023-08-07T00:18:51.384375Z",
        "shell.execute_reply": "2023-08-07T00:18:51.383952Z"
       }
      },
      "outputs": [],
      "source": [
       "validation = skm.ShuffleSplit(n_splits=1, \n",
       "                              test_size=0.2,\n",
       "                              random_state=0)\n",
       "for train_idx, test_idx in validation.split(Y):\n",
       "    full_path.fit(Hitters.iloc[train_idx],\n",
       "                  Y[train_idx])\n",
       "    Yhat_val = full_path.predict(Hitters.iloc[test_idx])\n",
       "    errors = (Yhat_val - Y[test_idx,None])**2\n",
       "    validation_mse = errors.mean(0)"
      ]
     },
     {
      "cell_type": "markdown",
      "id": "b778cde1",
      "metadata": {},
      "source": [
       " As for the in-sample MSE case, the validation set approach does not provide standard errors."
      ]
     },
     {
      "cell_type": "code",
      "execution_count": null,
      "id": "791c91cf",
      "metadata": {
       "execution": {
        "iopub.execute_input": "2023-08-07T00:18:51.386169Z",
        "iopub.status.busy": "2023-08-07T00:18:51.386065Z",
        "iopub.status.idle": "2023-08-07T00:18:51.477121Z",
        "shell.execute_reply": "2023-08-07T00:18:51.476803Z"
       }
      },
      "outputs": [],
      "source": [
       "ax.plot(np.arange(n_steps), \n",
       "        validation_mse,\n",
       "        'b--', # color blue, broken line\n",
       "        label='Validation')\n",
       "ax.set_xticks(np.arange(n_steps)[::2])\n",
       "ax.set_ylim([50000,250000])\n",
       "ax.legend()\n",
       "mse_fig"
      ]
     },
     {
      "cell_type": "markdown",
      "id": "13144579",
      "metadata": {},
      "source": [
       "### Best Subset Selection\n",
       "Forward stepwise is a *greedy* selection procedure; at each step it augments the current set by including one additional variable.  We now apply best subset selection  to the  `Hitters` \n",
       "data, which for every subset size, searches for the best set of predictors.  \n",
       "\n",
       "We will use a package called `l0bnb` to perform\n",
       "best subset selection.\n",
       "Instead of constraining the subset to be a given size,\n",
       "this package produces a path of solutions using the subset size as a\n",
       "penalty rather than a constraint. Although the distinction is subtle, the difference comes when we cross-validate."
      ]
     },
     {
      "cell_type": "code",
      "execution_count": null,
      "id": "2c796192",
      "metadata": {
       "execution": {
        "iopub.execute_input": "2023-08-07T00:18:51.478655Z",
        "iopub.status.busy": "2023-08-07T00:18:51.478566Z",
        "iopub.status.idle": "2023-08-07T00:18:51.490105Z",
        "shell.execute_reply": "2023-08-07T00:18:51.489804Z"
       }
      },
      "outputs": [],
      "source": [
       "D = design.fit_transform(Hitters)\n",
       "D = D.drop('intercept', axis=1)\n",
       "X = np.asarray(D)"
      ]
     },
     {
      "cell_type": "markdown",
      "id": "95a3f639",
      "metadata": {},
      "source": [
       "Here we excluded the first column corresponding to the intercept, as\n",
       "`l0bnb` will fit the intercept separately. We can find a path using the `fit_path()` function."
      ]
     },
     {
      "cell_type": "code",
      "execution_count": null,
      "id": "abb9e7ac",
      "metadata": {
       "execution": {
        "iopub.execute_input": "2023-08-07T00:18:51.491731Z",
        "iopub.status.busy": "2023-08-07T00:18:51.491619Z",
        "iopub.status.idle": "2023-08-07T00:18:53.665997Z",
        "shell.execute_reply": "2023-08-07T00:18:53.665647Z"
       }
      },
      "outputs": [],
      "source": [
       "path = fit_path(X, \n",
       "                Y,\n",
       "                max_nonzeros=X.shape[1])"
      ]
     },
     {
      "cell_type": "markdown",
      "id": "6c577e2a",
      "metadata": {},
      "source": [
       "The function `fit_path()` returns a list whose values include the fitted coefficients as `B`, an intercept as `B0`, as well as a few other attributes related to the particular path algorithm used. Such details are beyond the scope of this book."
      ]
     },
     {
      "cell_type": "code",
      "execution_count": null,
      "id": "70f1c6c2",
      "metadata": {
       "execution": {
        "iopub.execute_input": "2023-08-07T00:18:53.667678Z",
        "iopub.status.busy": "2023-08-07T00:18:53.667560Z",
        "iopub.status.idle": "2023-08-07T00:18:53.670060Z",
        "shell.execute_reply": "2023-08-07T00:18:53.669797Z"
       }
      },
      "outputs": [],
      "source": [
       "path[3]"
      ]
     },
     {
      "cell_type": "markdown",
      "id": "1882702b",
      "metadata": {},
      "source": [
       "In the example above, we see that at the fourth step in the path, we have two nonzero coefficients in `'B'`, corresponding to the value $0.114$ for the penalty parameter `lambda_0`.\n",
       "We could make predictions using this sequence of fits on a validation set as a function of `lambda_0`, or with more work using cross-validation.\n",
       "\n",
       "## Ridge Regression and the Lasso\n",
       "We will use the `sklearn.linear_model` package (for which\n",
       "we use `skl` as shorthand below)\n",
       "to fit ridge and  lasso regularized linear models on the `Hitters` data.\n",
       "We start with the model matrix `X` (without an intercept) that we computed in the previous section on best subset regression.\n",
       "\n",
       "### Ridge Regression\n",
       "We will use the function `skl.ElasticNet()` to fit both  ridge and the lasso.\n",
       "To fit a *path* of ridge regressions models, we use\n",
       "`skl.ElasticNet.path()`, which can fit both ridge and lasso, as well as a hybrid mixture;  ridge regression\n",
       "corresponds to `l1_ratio=0`.\n",
       "It is good practice to standardize the columns of `X` in these applications, if the variables are measured in different units. Since `skl.ElasticNet()` does no normalization, we have to take care of that ourselves.\n",
       "Since we\n",
       "standardize first, in order to find coefficient\n",
       "estimates on the original scale, we must *unstandardize*\n",
       "the coefficient estimates. The parameter\n",
       "$\\lambda$ in (6.5) and (6.7) is called `alphas` in `sklearn`. In order to\n",
       "be consistent with the rest of this chapter, we use `lambdas`\n",
       "rather than `alphas` in what follows.  {At the time of publication, ridge fits like the one in code chunk [22] issue unwarranted convergence warning messages; we expect these to disappear as this package matures.}"
      ]
     },
     {
      "cell_type": "code",
      "execution_count": null,
      "id": "9f1fc533",
      "metadata": {
       "execution": {
        "iopub.execute_input": "2023-08-07T00:18:53.671506Z",
        "iopub.status.busy": "2023-08-07T00:18:53.671407Z",
        "iopub.status.idle": "2023-08-07T00:18:53.742856Z",
        "shell.execute_reply": "2023-08-07T00:18:53.742586Z"
       }
      },
      "outputs": [],
      "source": [
       "Xs = X - X.mean(0)[None,:]\n",
       "X_scale = X.std(0)\n",
       "Xs = Xs / X_scale[None,:]\n",
       "lambdas = 10**np.linspace(8, -2, 100) / Y.std()\n",
       "soln_array = skl.ElasticNet.path(Xs,\n",
       "                                 Y,\n",
       "                                 l1_ratio=0.,\n",
       "                                 alphas=lambdas)[1]\n",
       "soln_array.shape"
      ]
     },
     {
      "cell_type": "markdown",
      "id": "cefe307b",
      "metadata": {},
      "source": [
       "Here we extract the array of coefficients corresponding to the solutions along the regularization path.\n",
       "By default the `skl.ElasticNet.path` method fits a path along\n",
       "an automatically selected range of $\\lambda$ values, except for the case when\n",
       "`l1_ratio=0`, which results in ridge regression (as is the case here). {The reason is rather technical; for all models except ridge, we can find the smallest value of $\\lambda$ for which all coefficients are zero. For ridge this value is $\\infty$.}  So here\n",
       "we have chosen to implement the function over a grid of values ranging\n",
       "from $\\lambda=10^{8}$ to $\\lambda=10^{-2}$ scaled by the standard\n",
       "deviation of $y$, essentially covering the full range of scenarios\n",
       "from the null model containing only the intercept, to the least\n",
       "squares fit.\n",
       "\n",
       "Associated with each value of $\\lambda$ is a vector of ridge\n",
       "regression coefficients,   that can be accessed by\n",
       "a column of `soln_array`. In this case, `soln_array` is a $19 \\times 100$ matrix, with\n",
       "19 rows (one for each predictor) and 100\n",
       "columns (one for each value of $\\lambda$).\n",
       "\n",
       "We transpose this matrix and turn it into a data frame to facilitate viewing and plotting."
      ]
     },
     {
      "cell_type": "code",
      "execution_count": null,
      "id": "642287d1",
      "metadata": {
       "execution": {
        "iopub.execute_input": "2023-08-07T00:18:53.744570Z",
        "iopub.status.busy": "2023-08-07T00:18:53.744458Z",
        "iopub.status.idle": "2023-08-07T00:18:53.755045Z",
        "shell.execute_reply": "2023-08-07T00:18:53.754770Z"
       }
      },
      "outputs": [],
      "source": [
       "soln_path = pd.DataFrame(soln_array.T,\n",
       "                         columns=D.columns,\n",
       "                         index=-np.log(lambdas))\n",
       "soln_path.index.name = 'negative log(lambda)'\n",
       "soln_path"
      ]
     },
     {
      "cell_type": "markdown",
      "id": "8e2a5cd7",
      "metadata": {},
      "source": [
       "We plot the paths to get a sense of how the coefficients vary with $\\lambda$.\n",
       "To control the location of the legend we first set `legend` to `False` in the\n",
       "plot method, adding it afterward with the `legend()` method of `ax`."
      ]
     },
     {
      "cell_type": "code",
      "execution_count": null,
      "id": "734c1a05",
      "metadata": {
       "execution": {
        "iopub.execute_input": "2023-08-07T00:18:53.756579Z",
        "iopub.status.busy": "2023-08-07T00:18:53.756474Z",
        "iopub.status.idle": "2023-08-07T00:18:54.016759Z",
        "shell.execute_reply": "2023-08-07T00:18:54.016431Z"
       }
      },
      "outputs": [],
      "source": [
       "path_fig, ax = subplots(figsize=(8,8))\n",
       "soln_path.plot(ax=ax, legend=False)\n",
       "ax.set_xlabel('$-\\log(\\lambda)$', fontsize=20)\n",
       "ax.set_ylabel('Standardized coefficients', fontsize=20)\n",
       "ax.legend(loc='upper left');"
      ]
     },
     {
      "cell_type": "markdown",
      "id": "75cfe676",
      "metadata": {},
      "source": [
       "(We have used `latex` formatting in the horizontal label, in order to format the Greek $\\lambda$ appropriately.) \n",
       "We expect the coefficient estimates to be much smaller, in terms of\n",
       "$\\ell_2$ norm, when a large value of $\\lambda$ is used, as compared to\n",
       "when a small value of $\\lambda$ is used. (Recall that the  $\\ell_2$ norm is the square root of the sum of squared coefficient values.) We display  the coefficients at the $40$th step,\n",
       "where $\\lambda$ is 25.535."
      ]
     },
     {
      "cell_type": "code",
      "execution_count": null,
      "id": "5a55b76b",
      "metadata": {
       "execution": {
        "iopub.execute_input": "2023-08-07T00:18:54.018545Z",
        "iopub.status.busy": "2023-08-07T00:18:54.018426Z",
        "iopub.status.idle": "2023-08-07T00:18:54.023191Z",
        "shell.execute_reply": "2023-08-07T00:18:54.022916Z"
       }
      },
      "outputs": [],
      "source": [
       "beta_hat = soln_path.loc[soln_path.index[39]]\n",
       "lambdas[39], beta_hat"
      ]
     },
     {
      "cell_type": "markdown",
      "id": "a8f4071c",
      "metadata": {},
      "source": [
       "Let’s compute the $\\ell_2$ norm of the standardized coefficients."
      ]
     },
     {
      "cell_type": "code",
      "execution_count": null,
      "id": "cdbee899",
      "metadata": {
       "execution": {
        "iopub.execute_input": "2023-08-07T00:18:54.024675Z",
        "iopub.status.busy": "2023-08-07T00:18:54.024581Z",
        "iopub.status.idle": "2023-08-07T00:18:54.026901Z",
        "shell.execute_reply": "2023-08-07T00:18:54.026617Z"
       }
      },
      "outputs": [],
      "source": [
       "np.linalg.norm(beta_hat)"
      ]
     },
     {
      "cell_type": "markdown",
      "id": "2511270d",
      "metadata": {},
      "source": [
       "In contrast, here is the $\\ell_2$ norm when $\\lambda$ is 2.44e-01.\n",
       "Note the much larger $\\ell_2$ norm of the\n",
       "coefficients associated with this smaller value of $\\lambda$."
      ]
     },
     {
      "cell_type": "code",
      "execution_count": null,
      "id": "23fe1cb5",
      "metadata": {
       "execution": {
        "iopub.execute_input": "2023-08-07T00:18:54.028404Z",
        "iopub.status.busy": "2023-08-07T00:18:54.028310Z",
        "iopub.status.idle": "2023-08-07T00:18:54.030615Z",
        "shell.execute_reply": "2023-08-07T00:18:54.030382Z"
       }
      },
      "outputs": [],
      "source": [
       "beta_hat = soln_path.loc[soln_path.index[59]]\n",
       "lambdas[59], np.linalg.norm(beta_hat)"
      ]
     },
     {
      "cell_type": "markdown",
      "id": "c610fcf7",
      "metadata": {},
      "source": [
       "Above we normalized `X` upfront, and fit the ridge model using `Xs`.\n",
       "The `Pipeline()`  object\n",
       "in `sklearn` provides a clear way to separate feature\n",
       "normalization from the fitting of the ridge model itself."
      ]
     },
     {
      "cell_type": "code",
      "execution_count": null,
      "id": "fa46c4d0",
      "metadata": {
       "execution": {
        "iopub.execute_input": "2023-08-07T00:18:54.032082Z",
        "iopub.status.busy": "2023-08-07T00:18:54.031980Z",
        "iopub.status.idle": "2023-08-07T00:18:54.044554Z",
        "shell.execute_reply": "2023-08-07T00:18:54.044265Z"
       }
      },
      "outputs": [],
      "source": [
       "ridge = skl.ElasticNet(alpha=lambdas[59], l1_ratio=0)\n",
       "scaler = StandardScaler(with_mean=True,  with_std=True)\n",
       "pipe = Pipeline(steps=[('scaler', scaler), ('ridge', ridge)])\n",
       "pipe.fit(X, Y)"
      ]
     },
     {
      "cell_type": "markdown",
      "id": "a5607efa",
      "metadata": {},
      "source": [
       "We show that it gives the same $\\ell_2$ norm as in our previous fit on the standardized data."
      ]
     },
     {
      "cell_type": "code",
      "execution_count": null,
      "id": "8e775d4c",
      "metadata": {
       "execution": {
        "iopub.execute_input": "2023-08-07T00:18:54.045989Z",
        "iopub.status.busy": "2023-08-07T00:18:54.045889Z",
        "iopub.status.idle": "2023-08-07T00:18:54.047963Z",
        "shell.execute_reply": "2023-08-07T00:18:54.047707Z"
       }
      },
      "outputs": [],
      "source": [
       "np.linalg.norm(ridge.coef_)"
      ]
     },
     {
      "cell_type": "markdown",
      "id": "06771f4e",
      "metadata": {},
      "source": [
       " Notice that the operation `pipe.fit(X, Y)` above has changed the `ridge` object, and in particular has added attributes such as `coef_` that were not there before. \n",
       "### Estimating Test Error of Ridge Regression\n",
       "Choosing an *a priori* value of $\\lambda$ for ridge regression is\n",
       "difficult if not impossible. We will want to use the validation method\n",
       "or cross-validation to select the tuning parameter. The reader may not\n",
       "be surprised that the  `Pipeline()` approach can be used in\n",
       "`skm.cross_validate()` with either a validation method\n",
       "(i.e. `validation`) or $k$-fold cross-validation.\n",
       "\n",
       "We fix the random state of the splitter\n",
       "so that the results obtained will be reproducible."
      ]
     },
     {
      "cell_type": "code",
      "execution_count": null,
      "id": "531f7c0e",
      "metadata": {
       "execution": {
        "iopub.execute_input": "2023-08-07T00:18:54.049366Z",
        "iopub.status.busy": "2023-08-07T00:18:54.049292Z",
        "iopub.status.idle": "2023-08-07T00:18:54.056484Z",
        "shell.execute_reply": "2023-08-07T00:18:54.056223Z"
       }
      },
      "outputs": [],
      "source": [
       "validation = skm.ShuffleSplit(n_splits=1,\n",
       "                              test_size=0.5,\n",
       "                              random_state=0)\n",
       "ridge.alpha = 0.01\n",
       "results = skm.cross_validate(ridge,\n",
       "                             X,\n",
       "                             Y,\n",
       "                             scoring='neg_mean_squared_error',\n",
       "                             cv=validation)\n",
       "-results['test_score']"
      ]
     },
     {
      "cell_type": "markdown",
      "id": "951f3189",
      "metadata": {},
      "source": [
       "The test MSE is 1.342e+05.  Note\n",
       "that if we had instead simply fit a model with just an intercept, we\n",
       "would have predicted each test observation using the mean of the\n",
       "training observations. We can get the same result by fitting a ridge regression model\n",
       "with a *very* large value of $\\lambda$. Note that `1e10`\n",
       "means $10^{10}$."
      ]
     },
     {
      "cell_type": "code",
      "execution_count": null,
      "id": "9d6abcd6",
      "metadata": {
       "execution": {
        "iopub.execute_input": "2023-08-07T00:18:54.057943Z",
        "iopub.status.busy": "2023-08-07T00:18:54.057832Z",
        "iopub.status.idle": "2023-08-07T00:18:54.065467Z",
        "shell.execute_reply": "2023-08-07T00:18:54.065208Z"
       }
      },
      "outputs": [],
      "source": [
       "ridge.alpha = 1e10\n",
       "results = skm.cross_validate(ridge,\n",
       "                             X,\n",
       "                             Y,\n",
       "                             scoring='neg_mean_squared_error',\n",
       "                             cv=validation)\n",
       "-results['test_score']"
      ]
     },
     {
      "cell_type": "markdown",
      "id": "60702c2d",
      "metadata": {},
      "source": [
       "Obviously choosing $\\lambda=0.01$ is arbitrary,  so we will  use cross-validation or the validation-set\n",
       "approach to choose the tuning parameter $\\lambda$.\n",
       "The object `GridSearchCV()`  allows exhaustive\n",
       "grid search to choose such a parameter.\n",
       "\n",
       "We first use the validation set method\n",
       "to choose $\\lambda$."
      ]
     },
     {
      "cell_type": "code",
      "execution_count": null,
      "id": "4009c7c9",
      "metadata": {
       "execution": {
        "iopub.execute_input": "2023-08-07T00:18:54.066994Z",
        "iopub.status.busy": "2023-08-07T00:18:54.066891Z",
        "iopub.status.idle": "2023-08-07T00:18:54.531153Z",
        "shell.execute_reply": "2023-08-07T00:18:54.530814Z"
       }
      },
      "outputs": [],
      "source": [
       "param_grid = {'ridge__alpha': lambdas}\n",
       "grid = skm.GridSearchCV(pipe,\n",
       "                        param_grid,\n",
       "                        cv=validation,\n",
       "                        scoring='neg_mean_squared_error')\n",
       "grid.fit(X, Y)\n",
       "grid.best_params_['ridge__alpha']\n",
       "grid.best_estimator_"
      ]
     },
     {
      "cell_type": "markdown",
      "id": "8e22f625",
      "metadata": {},
      "source": [
       "Alternatively, we can use 5-fold cross-validation."
      ]
     },
     {
      "cell_type": "code",
      "execution_count": null,
      "id": "1fd51cd6",
      "metadata": {
       "execution": {
        "iopub.execute_input": "2023-08-07T00:18:54.532842Z",
        "iopub.status.busy": "2023-08-07T00:18:54.532727Z",
        "iopub.status.idle": "2023-08-07T00:18:57.645064Z",
        "shell.execute_reply": "2023-08-07T00:18:57.644683Z"
       }
      },
      "outputs": [],
      "source": [
       "grid = skm.GridSearchCV(pipe, \n",
       "                        param_grid,\n",
       "                        cv=kfold,\n",
       "                        scoring='neg_mean_squared_error')\n",
       "grid.fit(X, Y)\n",
       "grid.best_params_['ridge__alpha']\n",
       "grid.best_estimator_"
      ]
     },
     {
      "cell_type": "markdown",
      "id": "245526c5",
      "metadata": {},
      "source": [
       "Recall we set up the `kfold` object for 5-fold cross-validation on page 296. We now plot the cross-validated MSE as a function of $-\\log(\\lambda)$, which has shrinkage decreasing from left\n",
       "to right."
      ]
     },
     {
      "cell_type": "code",
      "execution_count": null,
      "id": "1679fd6a",
      "metadata": {
       "execution": {
        "iopub.execute_input": "2023-08-07T00:18:57.646629Z",
        "iopub.status.busy": "2023-08-07T00:18:57.646511Z",
        "iopub.status.idle": "2023-08-07T00:18:57.745842Z",
        "shell.execute_reply": "2023-08-07T00:18:57.745499Z"
       }
      },
      "outputs": [],
      "source": [
       "ridge_fig, ax = subplots(figsize=(8,8))\n",
       "ax.errorbar(-np.log(lambdas),\n",
       "            -grid.cv_results_['mean_test_score'],\n",
       "            yerr=grid.cv_results_['std_test_score'] / np.sqrt(K))\n",
       "ax.set_ylim([50000,250000])\n",
       "ax.set_xlabel('$-\\log(\\lambda)$', fontsize=20)\n",
       "ax.set_ylabel('Cross-validated MSE', fontsize=20);"
      ]
     },
     {
      "cell_type": "markdown",
      "id": "36cc5ca2",
      "metadata": {},
      "source": [
       "One can cross-validate different metrics to choose a parameter. The default\n",
       "metric for `skl.ElasticNet()` is test $R^2$.\n",
       "Let’s compare $R^2$ to MSE for cross-validation here."
      ]
     },
     {
      "cell_type": "code",
      "execution_count": null,
      "id": "f59557ed",
      "metadata": {
       "execution": {
        "iopub.execute_input": "2023-08-07T00:18:57.747642Z",
        "iopub.status.busy": "2023-08-07T00:18:57.747520Z",
        "iopub.status.idle": "2023-08-07T00:19:00.877665Z",
        "shell.execute_reply": "2023-08-07T00:19:00.877372Z"
       }
      },
      "outputs": [],
      "source": [
       "grid_r2 = skm.GridSearchCV(pipe, \n",
       "                           param_grid,\n",
       "                           cv=kfold)\n",
       "grid_r2.fit(X, Y)"
      ]
     },
     {
      "cell_type": "markdown",
      "id": "5ac19760",
      "metadata": {},
      "source": [
       "Finally, let’s plot the results for cross-validated $R^2$."
      ]
     },
     {
      "cell_type": "code",
      "execution_count": null,
      "id": "12d94ae6",
      "metadata": {
       "execution": {
        "iopub.execute_input": "2023-08-07T00:19:00.879281Z",
        "iopub.status.busy": "2023-08-07T00:19:00.879170Z",
        "iopub.status.idle": "2023-08-07T00:19:00.973974Z",
        "shell.execute_reply": "2023-08-07T00:19:00.973660Z"
       }
      },
      "outputs": [],
      "source": [
       "r2_fig, ax = subplots(figsize=(8,8))\n",
       "ax.errorbar(-np.log(lambdas),\n",
       "            grid_r2.cv_results_['mean_test_score'],\n",
       "            yerr=grid_r2.cv_results_['std_test_score'] / np.sqrt(K))\n",
       "ax.set_xlabel('$-\\log(\\lambda)$', fontsize=20)\n",
       "ax.set_ylabel('Cross-validated $R^2$', fontsize=20);"
      ]
     },
     {
      "cell_type": "markdown",
      "id": "f9eda9aa",
      "metadata": {},
      "source": [
       "### Fast Cross-Validation for Solution Paths\n",
       "The ridge, lasso, and elastic net can be efficiently fit along a sequence of $\\lambda$ values, creating what is known as a *solution path* or *regularization path*. Hence there is specialized code to fit\n",
       "such paths, and to choose a suitable value of $\\lambda$ using cross-validation. Even with\n",
       "identical splits the results will not agree *exactly* with our `grid`\n",
       "above because the standardization of each feature  in `grid` is carried out on each fold,\n",
       "while in `pipeCV` below it is carried out only once.\n",
       "Nevertheless, the results are similar as the normalization\n",
       "is relatively stable across folds."
      ]
     },
     {
      "cell_type": "code",
      "execution_count": null,
      "id": "b1fd1281",
      "metadata": {
       "execution": {
        "iopub.execute_input": "2023-08-07T00:19:00.975674Z",
        "iopub.status.busy": "2023-08-07T00:19:00.975550Z",
        "iopub.status.idle": "2023-08-07T00:19:01.331387Z",
        "shell.execute_reply": "2023-08-07T00:19:01.331052Z"
       }
      },
      "outputs": [],
      "source": [
       "ridgeCV = skl.ElasticNetCV(alphas=lambdas, \n",
       "                           l1_ratio=0,\n",
       "                           cv=kfold)\n",
       "pipeCV = Pipeline(steps=[('scaler', scaler),\n",
       "                         ('ridge', ridgeCV)])\n",
       "pipeCV.fit(X, Y)"
      ]
     },
     {
      "cell_type": "markdown",
      "id": "da8395bb",
      "metadata": {},
      "source": [
       "Let’s produce a plot again of the cross-validation error to see that\n",
       "it is similar to using `skm.GridSearchCV`."
      ]
     },
     {
      "cell_type": "code",
      "execution_count": null,
      "id": "5cf09512",
      "metadata": {
       "execution": {
        "iopub.execute_input": "2023-08-07T00:19:01.333438Z",
        "iopub.status.busy": "2023-08-07T00:19:01.333326Z",
        "iopub.status.idle": "2023-08-07T00:19:01.435211Z",
        "shell.execute_reply": "2023-08-07T00:19:01.434907Z"
       }
      },
      "outputs": [],
      "source": [
       "tuned_ridge = pipeCV.named_steps['ridge']\n",
       "ridgeCV_fig, ax = subplots(figsize=(8,8))\n",
       "ax.errorbar(-np.log(lambdas),\n",
       "            tuned_ridge.mse_path_.mean(1),\n",
       "            yerr=tuned_ridge.mse_path_.std(1) / np.sqrt(K))\n",
       "ax.axvline(-np.log(tuned_ridge.alpha_), c='k', ls='--')\n",
       "ax.set_ylim([50000,250000])\n",
       "ax.set_xlabel('$-\\log(\\lambda)$', fontsize=20)\n",
       "ax.set_ylabel('Cross-validated MSE', fontsize=20);"
      ]
     },
     {
      "cell_type": "markdown",
      "id": "6f5eb495",
      "metadata": {},
      "source": [
       "We see that the value of $\\lambda$ that results in the\n",
       "smallest cross-validation error is 1.19e-02, available\n",
       "as the value `tuned_ridge.alpha_`. What is the test MSE\n",
       "associated with this value of $\\lambda$?"
      ]
     },
     {
      "cell_type": "code",
      "execution_count": null,
      "id": "a8d6770f",
      "metadata": {
       "execution": {
        "iopub.execute_input": "2023-08-07T00:19:01.436940Z",
        "iopub.status.busy": "2023-08-07T00:19:01.436825Z",
        "iopub.status.idle": "2023-08-07T00:19:01.439373Z",
        "shell.execute_reply": "2023-08-07T00:19:01.439082Z"
       }
      },
      "outputs": [],
      "source": [
       "np.min(tuned_ridge.mse_path_.mean(1))"
      ]
     },
     {
      "cell_type": "markdown",
      "id": "4da37400",
      "metadata": {},
      "source": [
       "This represents a further improvement over the test MSE that we got\n",
       "using $\\lambda=4$.  Finally, `tuned_ridge.coef_`\n",
       "has the coefficients fit on the entire data set\n",
       "at this value of  $\\lambda$."
      ]
     },
     {
      "cell_type": "code",
      "execution_count": null,
      "id": "852b1e39",
      "metadata": {
       "execution": {
        "iopub.execute_input": "2023-08-07T00:19:01.441001Z",
        "iopub.status.busy": "2023-08-07T00:19:01.440889Z",
        "iopub.status.idle": "2023-08-07T00:19:01.443271Z",
        "shell.execute_reply": "2023-08-07T00:19:01.443016Z"
       }
      },
      "outputs": [],
      "source": [
       "tuned_ridge.coef_"
      ]
     },
     {
      "cell_type": "markdown",
      "id": "93ea5623",
      "metadata": {},
      "source": [
       "As expected, none of the coefficients are zero—ridge regression does\n",
       "not perform variable selection!"
      ]
     },
     {
      "cell_type": "markdown",
      "id": "3e01383a",
      "metadata": {},
      "source": [
       "### Evaluating Test Error of Cross-Validated Ridge\n",
       "Choosing $\\lambda$ using cross-validation provides a single regression\n",
       "estimator, similar to fitting a linear regression model as we saw in\n",
       "Chapter 3. It is therefore reasonable to estimate what its test error\n",
       "is. We run into a problem here in that cross-validation will have\n",
       "*touched* all of its data in choosing $\\lambda$, hence we have no\n",
       "further data to estimate test error. A compromise is to do an initial\n",
       "split of the data into two disjoint sets: a training set and a test set.\n",
       "We then fit a cross-validation\n",
       "tuned ridge regression on the training set, and evaluate its performance on the test set.\n",
       "We might call this cross-validation nested\n",
       "within the validation set approach. A priori there is no reason to use\n",
       "half of the data for each of the two sets in validation. Below, we use\n",
       "75% for training and 25% for test, with the estimator being ridge\n",
       "regression tuned using 5-fold cross-validation.  This can be achieved\n",
       "in code as follows:"
      ]
     },
     {
      "cell_type": "code",
      "execution_count": null,
      "id": "81f6259f",
      "metadata": {
       "execution": {
        "iopub.execute_input": "2023-08-07T00:19:01.444939Z",
        "iopub.status.busy": "2023-08-07T00:19:01.444817Z",
        "iopub.status.idle": "2023-08-07T00:19:01.447180Z",
        "shell.execute_reply": "2023-08-07T00:19:01.446876Z"
       }
      },
      "outputs": [],
      "source": [
       "outer_valid = skm.ShuffleSplit(n_splits=1, \n",
       "                               test_size=0.25,\n",
       "                               random_state=1)\n",
       "inner_cv = skm.KFold(n_splits=5,\n",
       "                     shuffle=True,\n",
       "                     random_state=2)\n",
       "ridgeCV = skl.ElasticNetCV(alphas=lambdas,\n",
       "                           l1_ratio=0,\n",
       "                           cv=inner_cv)\n",
       "pipeCV = Pipeline(steps=[('scaler', scaler),\n",
       "                         ('ridge', ridgeCV)]);"
      ]
     },
     {
      "cell_type": "code",
      "execution_count": null,
      "id": "e44495e5",
      "metadata": {
       "execution": {
        "iopub.execute_input": "2023-08-07T00:19:01.448877Z",
        "iopub.status.busy": "2023-08-07T00:19:01.448781Z",
        "iopub.status.idle": "2023-08-07T00:19:01.772826Z",
        "shell.execute_reply": "2023-08-07T00:19:01.772548Z"
       }
      },
      "outputs": [],
      "source": [
       "results = skm.cross_validate(pipeCV, \n",
       "                             X,\n",
       "                             Y,\n",
       "                             cv=outer_valid,\n",
       "                             scoring='neg_mean_squared_error')\n",
       "-results['test_score']"
      ]
     },
     {
      "cell_type": "markdown",
      "id": "9ecaca1a",
      "metadata": {},
      "source": [
       "### The Lasso\n",
       "We saw that ridge regression with a wise choice of $\\lambda$ can\n",
       "outperform least squares as well as the null model on the\n",
       " `Hitters`  data set. We now ask whether the lasso can yield\n",
       "either a more accurate or a more interpretable model than ridge\n",
       "regression. In order to fit a lasso model, we once again use the\n",
       "`ElasticNetCV()`  function; however, this time we use the argument\n",
       "`l1_ratio=1`. Other than that change, we proceed just as we did in\n",
       "fitting a ridge model."
      ]
     },
     {
      "cell_type": "code",
      "execution_count": null,
      "id": "aae18029",
      "metadata": {
       "execution": {
        "iopub.execute_input": "2023-08-07T00:19:01.774969Z",
        "iopub.status.busy": "2023-08-07T00:19:01.774856Z",
        "iopub.status.idle": "2023-08-07T00:19:01.833190Z",
        "shell.execute_reply": "2023-08-07T00:19:01.832897Z"
       }
      },
      "outputs": [],
      "source": [
       "lassoCV = skl.ElasticNetCV(n_alphas=100, \n",
       "                           l1_ratio=1,\n",
       "                           cv=kfold)\n",
       "pipeCV = Pipeline(steps=[('scaler', scaler),\n",
       "                         ('lasso', lassoCV)])\n",
       "pipeCV.fit(X, Y)\n",
       "tuned_lasso = pipeCV.named_steps['lasso']\n",
       "tuned_lasso.alpha_"
      ]
     },
     {
      "cell_type": "code",
      "execution_count": null,
      "id": "b6d9dd06",
      "metadata": {
       "execution": {
        "iopub.execute_input": "2023-08-07T00:19:01.834799Z",
        "iopub.status.busy": "2023-08-07T00:19:01.834679Z",
        "iopub.status.idle": "2023-08-07T00:19:01.846058Z",
        "shell.execute_reply": "2023-08-07T00:19:01.845759Z"
       }
      },
      "outputs": [],
      "source": [
       "lambdas, soln_array = skl.Lasso.path(Xs, \n",
       "                                    Y,\n",
       "                                    l1_ratio=1,\n",
       "                                    n_alphas=100)[:2]\n",
       "soln_path = pd.DataFrame(soln_array.T,\n",
       "                         columns=D.columns,\n",
       "                         index=-np.log(lambdas))"
      ]
     },
     {
      "cell_type": "markdown",
      "id": "52817006",
      "metadata": {},
      "source": [
       "We can see from the coefficient plot of the standardized coefficients that depending on the choice of\n",
       "tuning parameter, some of the coefficients will be exactly equal to\n",
       "zero."
      ]
     },
     {
      "cell_type": "code",
      "execution_count": null,
      "id": "6e5f9a74",
      "metadata": {
       "execution": {
        "iopub.execute_input": "2023-08-07T00:19:01.847617Z",
        "iopub.status.busy": "2023-08-07T00:19:01.847538Z",
        "iopub.status.idle": "2023-08-07T00:19:02.018164Z",
        "shell.execute_reply": "2023-08-07T00:19:02.017828Z"
       }
      },
      "outputs": [],
      "source": [
       "path_fig, ax = subplots(figsize=(8,8))\n",
       "soln_path.plot(ax=ax, legend=False)\n",
       "ax.legend(loc='upper left')\n",
       "ax.set_xlabel('$-\\log(\\lambda)$', fontsize=20)\n",
       "ax.set_ylabel('Standardized coefficiients', fontsize=20);"
      ]
     },
     {
      "cell_type": "markdown",
      "id": "2e1e6626",
      "metadata": {},
      "source": [
       "The smallest cross-validated error is lower than the test set MSE of the null model\n",
       "and of least squares, and very similar to the test MSE of 115526.71 of ridge\n",
       "regression (page 303) with $\\lambda$ chosen by cross-validation."
      ]
     },
     {
      "cell_type": "code",
      "execution_count": null,
      "id": "9b57296a",
      "metadata": {
       "execution": {
        "iopub.execute_input": "2023-08-07T00:19:02.019872Z",
        "iopub.status.busy": "2023-08-07T00:19:02.019749Z",
        "iopub.status.idle": "2023-08-07T00:19:02.022349Z",
        "shell.execute_reply": "2023-08-07T00:19:02.022076Z"
       }
      },
      "outputs": [],
      "source": [
       "np.min(tuned_lasso.mse_path_.mean(1))"
      ]
     },
     {
      "cell_type": "markdown",
      "id": "5f35282c",
      "metadata": {},
      "source": [
       "Let’s again produce a plot of the cross-validation error."
      ]
     },
     {
      "cell_type": "code",
      "execution_count": null,
      "id": "b1b1a84a",
      "metadata": {
       "execution": {
        "iopub.execute_input": "2023-08-07T00:19:02.023974Z",
        "iopub.status.busy": "2023-08-07T00:19:02.023874Z",
        "iopub.status.idle": "2023-08-07T00:19:02.128566Z",
        "shell.execute_reply": "2023-08-07T00:19:02.128242Z"
       }
      },
      "outputs": [],
      "source": [
       "lassoCV_fig, ax = subplots(figsize=(8,8))\n",
       "ax.errorbar(-np.log(tuned_lasso.alphas_),\n",
       "            tuned_lasso.mse_path_.mean(1),\n",
       "            yerr=tuned_lasso.mse_path_.std(1) / np.sqrt(K))\n",
       "ax.axvline(-np.log(tuned_lasso.alpha_), c='k', ls='--')\n",
       "ax.set_ylim([50000,250000])\n",
       "ax.set_xlabel('$-\\log(\\lambda)$', fontsize=20)\n",
       "ax.set_ylabel('Cross-validated MSE', fontsize=20);"
      ]
     },
     {
      "cell_type": "markdown",
      "id": "7250e5c0",
      "metadata": {},
      "source": [
       "However, the lasso has a substantial advantage over ridge regression\n",
       "in that the resulting coefficient estimates are sparse. Here we see\n",
       "that 6 of the 19 coefficient estimates are exactly zero. So the lasso\n",
       "model with $\\lambda$ chosen by cross-validation contains only 13\n",
       "variables."
      ]
     },
     {
      "cell_type": "code",
      "execution_count": null,
      "id": "44246aee",
      "metadata": {
       "execution": {
        "iopub.execute_input": "2023-08-07T00:19:02.130282Z",
        "iopub.status.busy": "2023-08-07T00:19:02.130165Z",
        "iopub.status.idle": "2023-08-07T00:19:02.132656Z",
        "shell.execute_reply": "2023-08-07T00:19:02.132289Z"
       }
      },
      "outputs": [],
      "source": [
       "tuned_lasso.coef_"
      ]
     },
     {
      "cell_type": "markdown",
      "id": "bc08d038",
      "metadata": {},
      "source": [
       "As in ridge regression, we could evaluate the test error\n",
       "of cross-validated lasso by first splitting into\n",
       "test and training sets and internally running\n",
       "cross-validation on the training set. We leave\n",
       "this as an exercise."
      ]
     },
     {
      "cell_type": "markdown",
      "id": "a55364da",
      "metadata": {},
      "source": [
       "## PCR and PLS Regression\n",
       "\n",
       "### Principal Components Regression"
      ]
     },
     {
      "cell_type": "markdown",
      "id": "2806f021",
      "metadata": {},
      "source": [
       "Principal components regression (PCR) can be performed using\n",
       "`PCA()`  from the `sklearn.decomposition`\n",
       "module. We now apply PCR to the  `Hitters`  data, in order to\n",
       "predict `Salary`. Again, ensure that the missing values have\n",
       "been removed from the data, as described in Section 6.5.1.\n",
       "\n",
       "We use `LinearRegression()`  to fit the regression model\n",
       "here. Note that it fits an intercept by default, unlike\n",
       "the `OLS()` function seen earlier in Section 6.5.1."
      ]
     },
     {
      "cell_type": "code",
      "execution_count": null,
      "id": "33a88f6a",
      "metadata": {
       "execution": {
        "iopub.execute_input": "2023-08-07T00:19:02.134338Z",
        "iopub.status.busy": "2023-08-07T00:19:02.134219Z",
        "iopub.status.idle": "2023-08-07T00:19:02.138166Z",
        "shell.execute_reply": "2023-08-07T00:19:02.137891Z"
       }
      },
      "outputs": [],
      "source": [
       "pca = PCA(n_components=2)\n",
       "linreg = skl.LinearRegression()\n",
       "pipe = Pipeline([('pca', pca),\n",
       "                 ('linreg', linreg)])\n",
       "pipe.fit(X, Y)\n",
       "pipe.named_steps['linreg'].coef_"
      ]
     },
     {
      "cell_type": "markdown",
      "id": "4f94c0cc",
      "metadata": {},
      "source": [
       "When performing PCA, the results vary depending\n",
       "on whether the data has been *standardized* or not.\n",
       "As in the earlier examples, this can be accomplished\n",
       "by including an additional step in the pipeline."
      ]
     },
     {
      "cell_type": "code",
      "execution_count": null,
      "id": "86fa37a7",
      "metadata": {
       "execution": {
        "iopub.execute_input": "2023-08-07T00:19:02.139730Z",
        "iopub.status.busy": "2023-08-07T00:19:02.139646Z",
        "iopub.status.idle": "2023-08-07T00:19:02.143516Z",
        "shell.execute_reply": "2023-08-07T00:19:02.143243Z"
       }
      },
      "outputs": [],
      "source": [
       "pipe = Pipeline([('scaler', scaler), \n",
       "                 ('pca', pca),\n",
       "                 ('linreg', linreg)])\n",
       "pipe.fit(X, Y)\n",
       "pipe.named_steps['linreg'].coef_"
      ]
     },
     {
      "cell_type": "markdown",
      "id": "05e0acfe",
      "metadata": {},
      "source": [
       "We can of course use CV to choose the number of components, by\n",
       "using `skm.GridSearchCV`, in this\n",
       "case fixing the parameters to vary the\n",
       "`n_components`."
      ]
     },
     {
      "cell_type": "code",
      "execution_count": null,
      "id": "1e84065b",
      "metadata": {
       "execution": {
        "iopub.execute_input": "2023-08-07T00:19:02.145088Z",
        "iopub.status.busy": "2023-08-07T00:19:02.144973Z",
        "iopub.status.idle": "2023-08-07T00:19:02.264655Z",
        "shell.execute_reply": "2023-08-07T00:19:02.264357Z"
       }
      },
      "outputs": [],
      "source": [
       "param_grid = {'pca__n_components': range(1, 20)}\n",
       "grid = skm.GridSearchCV(pipe,\n",
       "                        param_grid,\n",
       "                        cv=kfold,\n",
       "                        scoring='neg_mean_squared_error')\n",
       "grid.fit(X, Y)"
      ]
     },
     {
      "cell_type": "markdown",
      "id": "965677ed",
      "metadata": {},
      "source": [
       "Let’s plot the results as we have for other methods."
      ]
     },
     {
      "cell_type": "code",
      "execution_count": null,
      "id": "ff432faf",
      "metadata": {
       "execution": {
        "iopub.execute_input": "2023-08-07T00:19:02.266312Z",
        "iopub.status.busy": "2023-08-07T00:19:02.266193Z",
        "iopub.status.idle": "2023-08-07T00:19:02.371065Z",
        "shell.execute_reply": "2023-08-07T00:19:02.370756Z"
       }
      },
      "outputs": [],
      "source": [
       "pcr_fig, ax = subplots(figsize=(8,8))\n",
       "n_comp = param_grid['pca__n_components']\n",
       "ax.errorbar(n_comp,\n",
       "            -grid.cv_results_['mean_test_score'],\n",
       "            grid.cv_results_['std_test_score'] / np.sqrt(K))\n",
       "ax.set_ylabel('Cross-validated MSE', fontsize=20)\n",
       "ax.set_xlabel('# principal components', fontsize=20)\n",
       "ax.set_xticks(n_comp[::2])\n",
       "ax.set_ylim([50000,250000]);"
      ]
     },
     {
      "cell_type": "markdown",
      "id": "8d3ca451",
      "metadata": {},
      "source": [
       "We see that the smallest cross-validation error occurs when\n",
       "17\n",
       "components are used. However, from the plot we also see that the\n",
       "cross-validation error is roughly the same when only one component is\n",
       "included in the model. This suggests that a model that uses just a\n",
       "small number of components might suffice.\n",
       "\n",
       "The CV score is provided for each possible number of components from\n",
       "1 to 19 inclusive. The `PCA()` method complains\n",
       "if we try to fit an intercept only with `n_components=0`\n",
       "so we also compute the MSE for just the null model with\n",
       "these splits."
      ]
     },
     {
      "cell_type": "code",
      "execution_count": null,
      "id": "57d21a61",
      "metadata": {
       "execution": {
        "iopub.execute_input": "2023-08-07T00:19:02.372780Z",
        "iopub.status.busy": "2023-08-07T00:19:02.372649Z",
        "iopub.status.idle": "2023-08-07T00:19:02.378968Z",
        "shell.execute_reply": "2023-08-07T00:19:02.378649Z"
       }
      },
      "outputs": [],
      "source": [
       "Xn = np.zeros((X.shape[0], 1))\n",
       "cv_null = skm.cross_validate(linreg,\n",
       "                             Xn,\n",
       "                             Y,\n",
       "                             cv=kfold,\n",
       "                             scoring='neg_mean_squared_error')\n",
       "-cv_null['test_score'].mean()"
      ]
     },
     {
      "cell_type": "markdown",
      "id": "333d11bd",
      "metadata": {},
      "source": [
       "The `explained_variance_ratio_`\n",
       "attribute of our `PCA` object provides the *percentage of variance explained* in the predictors and in the response using\n",
       "different numbers of components. This concept is discussed in greater\n",
       "detail in Section 12.2."
      ]
     },
     {
      "cell_type": "code",
      "execution_count": null,
      "id": "8d170a51",
      "metadata": {
       "execution": {
        "iopub.execute_input": "2023-08-07T00:19:02.380659Z",
        "iopub.status.busy": "2023-08-07T00:19:02.380546Z",
        "iopub.status.idle": "2023-08-07T00:19:02.382990Z",
        "shell.execute_reply": "2023-08-07T00:19:02.382710Z"
       }
      },
      "outputs": [],
      "source": [
       "pipe.named_steps['pca'].explained_variance_ratio_"
      ]
     },
     {
      "cell_type": "markdown",
      "id": "e0413213",
      "metadata": {},
      "source": [
       "Briefly, we can think of\n",
       "this as the amount of information about the predictors\n",
       "that is captured using $M$ principal components. For example, setting\n",
       "$M=1$ only captures 38.31% of the variance, while $M=2$ captures an additional 21.84%, for a total of 60.15% of the variance.\n",
       "By  $M=6$ it increases to\n",
       "88.63%. Beyond this the increments continue to diminish, until we use all $M=p=19$ components, which captures all  100% of the variance."
      ]
     },
     {
      "cell_type": "markdown",
      "id": "e04f26d1",
      "metadata": {},
      "source": [
       "### Partial Least Squares\n",
       "Partial least squares (PLS) is implemented in the\n",
       "`PLSRegression()`  function."
      ]
     },
     {
      "cell_type": "code",
      "execution_count": null,
      "id": "9d35e0d6",
      "metadata": {
       "execution": {
        "iopub.execute_input": "2023-08-07T00:19:02.384895Z",
        "iopub.status.busy": "2023-08-07T00:19:02.384657Z",
        "iopub.status.idle": "2023-08-07T00:19:02.388339Z",
        "shell.execute_reply": "2023-08-07T00:19:02.388045Z"
       }
      },
      "outputs": [],
      "source": [
       "pls = PLSRegression(n_components=2, \n",
       "                    scale=True)\n",
       "pls.fit(X, Y)"
      ]
     },
     {
      "cell_type": "markdown",
      "id": "5945c8cf",
      "metadata": {},
      "source": [
       "As was the case in PCR, we will want to\n",
       "use CV to choose the number of components."
      ]
     },
     {
      "cell_type": "code",
      "execution_count": null,
      "id": "35867372",
      "metadata": {
       "execution": {
        "iopub.execute_input": "2023-08-07T00:19:02.389892Z",
        "iopub.status.busy": "2023-08-07T00:19:02.389799Z",
        "iopub.status.idle": "2023-08-07T00:19:02.495184Z",
        "shell.execute_reply": "2023-08-07T00:19:02.494898Z"
       }
      },
      "outputs": [],
      "source": [
       "param_grid = {'n_components':range(1, 20)}\n",
       "grid = skm.GridSearchCV(pls,\n",
       "                        param_grid,\n",
       "                        cv=kfold,\n",
       "                        scoring='neg_mean_squared_error')\n",
       "grid.fit(X, Y)"
      ]
     },
     {
      "cell_type": "markdown",
      "id": "a0d1ecb6",
      "metadata": {},
      "source": [
       "As for our other methods, we plot the MSE."
      ]
     },
     {
      "cell_type": "code",
      "execution_count": null,
      "id": "6712c8b3",
      "metadata": {
       "execution": {
        "iopub.execute_input": "2023-08-07T00:19:02.496831Z",
        "iopub.status.busy": "2023-08-07T00:19:02.496720Z",
        "iopub.status.idle": "2023-08-07T00:19:02.593047Z",
        "shell.execute_reply": "2023-08-07T00:19:02.592758Z"
       }
      },
      "outputs": [],
      "source": [
       "pls_fig, ax = subplots(figsize=(8,8))\n",
       "n_comp = param_grid['n_components']\n",
       "ax.errorbar(n_comp,\n",
       "            -grid.cv_results_['mean_test_score'],\n",
       "            grid.cv_results_['std_test_score'] / np.sqrt(K))\n",
       "ax.set_ylabel('Cross-validated MSE', fontsize=20)\n",
       "ax.set_xlabel('# principal components', fontsize=20)\n",
       "ax.set_xticks(n_comp[::2])\n",
       "ax.set_ylim([50000,250000]);"
      ]
     },
     {
      "cell_type": "markdown",
      "id": "8fc7d826",
      "metadata": {},
      "source": [
       "CV error is minimized at 12,\n",
       "though there is little noticable difference between this point and a much lower number like 2 or 3 components."
      ]
     }
    ],
    "metadata": {
     "jupytext": {
      "cell_metadata_filter": "-all",
      "formats": "ipynb,md:myst",
      "main_language": "python"
     },
     "language_info": {
      "codemirror_mode": {
       "name": "ipython",
       "version": 3
      },
      "file_extension": ".py",
      "mimetype": "text/x-python",
      "name": "python",
      "nbconvert_exporter": "python",
      "pygments_lexer": "ipython3",
      "version": "3.11.4"
     }
    },
    "nbformat": 4,
    "nbformat_minor": 5
   }