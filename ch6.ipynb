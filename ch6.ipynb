{
 "cells": [
  {
   "cell_type": "markdown",
   "id": "f3de12b2-837b-4e8c-ac11-094a844bbacd",
   "metadata": {},
   "source": [
    "Chapter 6 code and figures"
   ]
  },
  {
   "cell_type": "code",
   "execution_count": 1,
   "id": "2df22c82-b76c-49df-82c7-ec5b07bd2a1b",
   "metadata": {},
   "outputs": [],
   "source": [
    "import numpy as np\n",
    "import pandas as pd\n",
    "import statsmodels.api as sm\n",
    "from statsmodels.stats.anova import anova_lm\n",
    "from matplotlib.pyplot import subplots\n",
    "from ISLP import load_data\n",
    "from ISLP.models import (ModelSpec as MS,\n",
    "                         summarize,\n",
    "                         poly)"
   ]
  },
  {
   "cell_type": "code",
   "execution_count": 2,
   "id": "1346834a-e1dd-4eb1-a719-a8e6f489899c",
   "metadata": {},
   "outputs": [
    {
     "data": {
      "text/html": [
       "<div>\n",
       "<style scoped>\n",
       "    .dataframe tbody tr th:only-of-type {\n",
       "        vertical-align: middle;\n",
       "    }\n",
       "\n",
       "    .dataframe tbody tr th {\n",
       "        vertical-align: top;\n",
       "    }\n",
       "\n",
       "    .dataframe thead th {\n",
       "        text-align: right;\n",
       "    }\n",
       "</style>\n",
       "<table border=\"1\" class=\"dataframe\">\n",
       "  <thead>\n",
       "    <tr style=\"text-align: right;\">\n",
       "      <th></th>\n",
       "      <th>Income</th>\n",
       "      <th>Limit</th>\n",
       "      <th>Rating</th>\n",
       "      <th>Cards</th>\n",
       "      <th>Age</th>\n",
       "      <th>Education</th>\n",
       "      <th>Own</th>\n",
       "      <th>Student</th>\n",
       "      <th>Married</th>\n",
       "      <th>Region</th>\n",
       "      <th>Balance</th>\n",
       "      <th>South</th>\n",
       "      <th>West</th>\n",
       "    </tr>\n",
       "  </thead>\n",
       "  <tbody>\n",
       "    <tr>\n",
       "      <th>0</th>\n",
       "      <td>14.891</td>\n",
       "      <td>3606</td>\n",
       "      <td>283</td>\n",
       "      <td>2</td>\n",
       "      <td>34</td>\n",
       "      <td>11</td>\n",
       "      <td>0</td>\n",
       "      <td>0</td>\n",
       "      <td>1</td>\n",
       "      <td>South</td>\n",
       "      <td>333</td>\n",
       "      <td>1</td>\n",
       "      <td>0</td>\n",
       "    </tr>\n",
       "    <tr>\n",
       "      <th>1</th>\n",
       "      <td>106.025</td>\n",
       "      <td>6645</td>\n",
       "      <td>483</td>\n",
       "      <td>3</td>\n",
       "      <td>82</td>\n",
       "      <td>15</td>\n",
       "      <td>1</td>\n",
       "      <td>1</td>\n",
       "      <td>1</td>\n",
       "      <td>West</td>\n",
       "      <td>903</td>\n",
       "      <td>0</td>\n",
       "      <td>1</td>\n",
       "    </tr>\n",
       "    <tr>\n",
       "      <th>2</th>\n",
       "      <td>104.593</td>\n",
       "      <td>7075</td>\n",
       "      <td>514</td>\n",
       "      <td>4</td>\n",
       "      <td>71</td>\n",
       "      <td>11</td>\n",
       "      <td>0</td>\n",
       "      <td>0</td>\n",
       "      <td>0</td>\n",
       "      <td>West</td>\n",
       "      <td>580</td>\n",
       "      <td>0</td>\n",
       "      <td>1</td>\n",
       "    </tr>\n",
       "    <tr>\n",
       "      <th>3</th>\n",
       "      <td>148.924</td>\n",
       "      <td>9504</td>\n",
       "      <td>681</td>\n",
       "      <td>3</td>\n",
       "      <td>36</td>\n",
       "      <td>11</td>\n",
       "      <td>1</td>\n",
       "      <td>0</td>\n",
       "      <td>0</td>\n",
       "      <td>West</td>\n",
       "      <td>964</td>\n",
       "      <td>0</td>\n",
       "      <td>1</td>\n",
       "    </tr>\n",
       "    <tr>\n",
       "      <th>4</th>\n",
       "      <td>55.882</td>\n",
       "      <td>4897</td>\n",
       "      <td>357</td>\n",
       "      <td>2</td>\n",
       "      <td>68</td>\n",
       "      <td>16</td>\n",
       "      <td>0</td>\n",
       "      <td>0</td>\n",
       "      <td>1</td>\n",
       "      <td>South</td>\n",
       "      <td>331</td>\n",
       "      <td>1</td>\n",
       "      <td>0</td>\n",
       "    </tr>\n",
       "    <tr>\n",
       "      <th>...</th>\n",
       "      <td>...</td>\n",
       "      <td>...</td>\n",
       "      <td>...</td>\n",
       "      <td>...</td>\n",
       "      <td>...</td>\n",
       "      <td>...</td>\n",
       "      <td>...</td>\n",
       "      <td>...</td>\n",
       "      <td>...</td>\n",
       "      <td>...</td>\n",
       "      <td>...</td>\n",
       "      <td>...</td>\n",
       "      <td>...</td>\n",
       "    </tr>\n",
       "    <tr>\n",
       "      <th>395</th>\n",
       "      <td>12.096</td>\n",
       "      <td>4100</td>\n",
       "      <td>307</td>\n",
       "      <td>3</td>\n",
       "      <td>32</td>\n",
       "      <td>13</td>\n",
       "      <td>0</td>\n",
       "      <td>0</td>\n",
       "      <td>1</td>\n",
       "      <td>South</td>\n",
       "      <td>560</td>\n",
       "      <td>1</td>\n",
       "      <td>0</td>\n",
       "    </tr>\n",
       "    <tr>\n",
       "      <th>396</th>\n",
       "      <td>13.364</td>\n",
       "      <td>3838</td>\n",
       "      <td>296</td>\n",
       "      <td>5</td>\n",
       "      <td>65</td>\n",
       "      <td>17</td>\n",
       "      <td>0</td>\n",
       "      <td>0</td>\n",
       "      <td>0</td>\n",
       "      <td>East</td>\n",
       "      <td>480</td>\n",
       "      <td>0</td>\n",
       "      <td>0</td>\n",
       "    </tr>\n",
       "    <tr>\n",
       "      <th>397</th>\n",
       "      <td>57.872</td>\n",
       "      <td>4171</td>\n",
       "      <td>321</td>\n",
       "      <td>5</td>\n",
       "      <td>67</td>\n",
       "      <td>12</td>\n",
       "      <td>1</td>\n",
       "      <td>0</td>\n",
       "      <td>1</td>\n",
       "      <td>South</td>\n",
       "      <td>138</td>\n",
       "      <td>1</td>\n",
       "      <td>0</td>\n",
       "    </tr>\n",
       "    <tr>\n",
       "      <th>398</th>\n",
       "      <td>37.728</td>\n",
       "      <td>2525</td>\n",
       "      <td>192</td>\n",
       "      <td>1</td>\n",
       "      <td>44</td>\n",
       "      <td>13</td>\n",
       "      <td>0</td>\n",
       "      <td>0</td>\n",
       "      <td>1</td>\n",
       "      <td>South</td>\n",
       "      <td>0</td>\n",
       "      <td>1</td>\n",
       "      <td>0</td>\n",
       "    </tr>\n",
       "    <tr>\n",
       "      <th>399</th>\n",
       "      <td>18.701</td>\n",
       "      <td>5524</td>\n",
       "      <td>415</td>\n",
       "      <td>5</td>\n",
       "      <td>64</td>\n",
       "      <td>7</td>\n",
       "      <td>1</td>\n",
       "      <td>0</td>\n",
       "      <td>0</td>\n",
       "      <td>West</td>\n",
       "      <td>966</td>\n",
       "      <td>0</td>\n",
       "      <td>1</td>\n",
       "    </tr>\n",
       "  </tbody>\n",
       "</table>\n",
       "<p>400 rows × 13 columns</p>\n",
       "</div>"
      ],
      "text/plain": [
       "      Income  Limit  Rating  Cards  Age  Education  Own  Student  Married  \\\n",
       "0     14.891   3606     283      2   34         11    0        0        1   \n",
       "1    106.025   6645     483      3   82         15    1        1        1   \n",
       "2    104.593   7075     514      4   71         11    0        0        0   \n",
       "3    148.924   9504     681      3   36         11    1        0        0   \n",
       "4     55.882   4897     357      2   68         16    0        0        1   \n",
       "..       ...    ...     ...    ...  ...        ...  ...      ...      ...   \n",
       "395   12.096   4100     307      3   32         13    0        0        1   \n",
       "396   13.364   3838     296      5   65         17    0        0        0   \n",
       "397   57.872   4171     321      5   67         12    1        0        1   \n",
       "398   37.728   2525     192      1   44         13    0        0        1   \n",
       "399   18.701   5524     415      5   64          7    1        0        0   \n",
       "\n",
       "    Region  Balance  South  West  \n",
       "0    South      333      1     0  \n",
       "1     West      903      0     1  \n",
       "2     West      580      0     1  \n",
       "3     West      964      0     1  \n",
       "4    South      331      1     0  \n",
       "..     ...      ...    ...   ...  \n",
       "395  South      560      1     0  \n",
       "396   East      480      0     0  \n",
       "397  South      138      1     0  \n",
       "398  South        0      1     0  \n",
       "399   West      966      0     1  \n",
       "\n",
       "[400 rows x 13 columns]"
      ]
     },
     "execution_count": 2,
     "metadata": {},
     "output_type": "execute_result"
    }
   ],
   "source": [
    "Credit = pd.read_csv('data/Credit.csv')\n",
    "Credit['Own']=(Credit['Own']=='Yes').astype(int)\n",
    "Credit['Student']=(Credit['Student']=='Yes').astype(int)\n",
    "Credit['Married']=(Credit['Married']=='Yes').astype(int)\n",
    "Credit['South']=(Credit['Region']=='South').astype(int)\n",
    "Credit['West']=(Credit['Region']=='West').astype(int)\n",
    "Credit"
   ]
  },
  {
   "cell_type": "markdown",
   "id": "aabb4102-c240-4f77-8b14-870cb38ee8ec",
   "metadata": {},
   "source": [
    "First fit the model with all of the predictor variables"
   ]
  },
  {
   "cell_type": "code",
   "execution_count": 3,
   "id": "41a56ad8-4dcf-4749-885b-67875aabfc54",
   "metadata": {},
   "outputs": [
    {
     "name": "stdout",
     "output_type": "stream",
     "text": [
      "                            OLS Regression Results                            \n",
      "==============================================================================\n",
      "Dep. Variable:                Balance   R-squared:                       0.955\n",
      "Model:                            OLS   Adj. R-squared:                  0.954\n",
      "Method:                 Least Squares   F-statistic:                     750.3\n",
      "Date:                Mon, 04 Mar 2024   Prob (F-statistic):          1.11e-253\n",
      "Time:                        14:19:43   Log-Likelihood:                -2398.7\n",
      "No. Observations:                 400   AIC:                             4821.\n",
      "Df Residuals:                     388   BIC:                             4869.\n",
      "Df Model:                          11                                         \n",
      "Covariance Type:            nonrobust                                         \n",
      "==============================================================================\n",
      "                 coef    std err          t      P>|t|      [0.025      0.975]\n",
      "------------------------------------------------------------------------------\n",
      "intercept   -479.2079     35.774    -13.395      0.000    -549.543    -408.873\n",
      "Income        -7.8031      0.234    -33.314      0.000      -8.264      -7.343\n",
      "Limit          0.1909      0.033      5.824      0.000       0.126       0.255\n",
      "Rating         1.1365      0.491      2.315      0.021       0.171       2.102\n",
      "Cards         17.7245      4.341      4.083      0.000       9.190      26.259\n",
      "Age           -0.6139      0.294     -2.088      0.037      -1.192      -0.036\n",
      "Education     -1.0989      1.598     -0.688      0.492      -4.241       2.043\n",
      "Own          -10.6532      9.914     -1.075      0.283     -30.145       8.839\n",
      "Student      425.7474     16.723     25.459      0.000     392.869     458.626\n",
      "Married       -8.5339     10.363     -0.824      0.411     -28.908      11.841\n",
      "South         10.1070     12.210      0.828      0.408     -13.899      34.113\n",
      "West          16.8042     14.119      1.190      0.235     -10.955      44.564\n",
      "==============================================================================\n",
      "Omnibus:                       34.899   Durbin-Watson:                   1.968\n",
      "Prob(Omnibus):                  0.000   Jarque-Bera (JB):               41.766\n",
      "Skew:                           0.782   Prob(JB):                     8.52e-10\n",
      "Kurtosis:                       3.241   Cond. No.                     3.87e+04\n",
      "==============================================================================\n",
      "\n",
      "Notes:\n",
      "[1] Standard Errors assume that the covariance matrix of the errors is correctly specified.\n",
      "[2] The condition number is large, 3.87e+04. This might indicate that there are\n",
      "strong multicollinearity or other numerical problems.\n"
     ]
    }
   ],
   "source": [
    "y = Credit['Balance']\n",
    "terms = Credit.columns.drop(['Region','Balance'])\n",
    "X = MS(terms).fit_transform(Credit)\n",
    "model = sm.OLS(y, X)\n",
    "results = model.fit()\n",
    "# Different ways of summary reseults. The second contains a lot of information.\n",
    "print(results.summary())"
   ]
  },
  {
   "cell_type": "markdown",
   "id": "5f0bdf5a-024a-49f6-8ac5-1771a5c0ced7",
   "metadata": {},
   "source": [
    "## Alg 6.2: Forward Stepwise Selection to k = 4 ##"
   ]
  },
  {
   "cell_type": "markdown",
   "id": "2c21d9a7-cc0f-4c85-bff8-645af0c013bb",
   "metadata": {},
   "source": [
    "First, see which predictor has the most predictive power"
   ]
  },
  {
   "cell_type": "code",
   "execution_count": 4,
   "id": "b8e9e88e-bad9-4aab-94d3-89e2b3cd2262",
   "metadata": {},
   "outputs": [
    {
     "name": "stdout",
     "output_type": "stream",
     "text": [
      "term: Income, R_squared: 0.21497731013240484\n",
      "term: Limit, R_squared: 0.7425221799818016\n",
      "term: Rating, R_squared: 0.7458484180585037\n",
      "term: Cards, R_squared: 0.007474700008969104\n",
      "term: Age, R_squared: 3.3676612274380346e-06\n",
      "term: Education, R_squared: 6.498901491658327e-05\n",
      "term: Own, R_squared: 0.00046113296449656893\n",
      "term: Student, R_squared: 0.06709008988708953\n",
      "term: Married, R_squared: 3.218849124542178e-05\n",
      "term: South, R_squared: 1.0813056131042664e-05\n",
      "term: West, R_squared: 9.62799739034903e-05\n",
      "['Rating']\n"
     ]
    }
   ],
   "source": [
    "R_squared = []\n",
    "terms_fixed = []\n",
    "TSS = np.linalg.norm(y-y.mean())**2\n",
    "for col in terms:\n",
    "    X = MS([col]).fit_transform(Credit)\n",
    "    model = sm.OLS(y, X)\n",
    "    results = model.fit()\n",
    "    R_squared.append(1-np.linalg.norm(results.resid)**2/TSS)\n",
    "    print('term: {}, R_squared: {}'.format(col, R_squared[-1]))\n",
    "\n",
    "terms_fixed.append(terms[R_squared.index(max(R_squared))])\n",
    "print(terms_fixed)"
   ]
  },
  {
   "cell_type": "markdown",
   "id": "c92bad26-1d58-472e-8c46-4ba1c5bee15a",
   "metadata": {},
   "source": [
    "Now, add a second predictor to the one computed above"
   ]
  },
  {
   "cell_type": "code",
   "execution_count": 5,
   "id": "abe1d22f-9cab-449f-81d8-86afd996ef9c",
   "metadata": {},
   "outputs": [
    {
     "name": "stdout",
     "output_type": "stream",
     "text": [
      "term: Income, R_squared: 0.8751179476994355\n",
      "term: Limit, R_squared: 0.745942796101409\n",
      "term: Rating, R_squared: 0.7458484180585037\n",
      "term: Cards, R_squared: 0.7474915260521078\n",
      "term: Age, R_squared: 0.7535447719888835\n",
      "term: Education, R_squared: 0.7461714278077378\n",
      "term: Own, R_squared: 0.7460389021078521\n",
      "term: Student, R_squared: 0.8138489985847958\n",
      "term: Married, R_squared: 0.7472499974386341\n",
      "term: South, R_squared: 0.7458540089138774\n",
      "term: West, R_squared: 0.7463017482302219\n",
      "['Rating', 'Income']\n"
     ]
    }
   ],
   "source": [
    "terms.drop(terms_fixed[0]) # remove the first term from the list (the one with the highest R_squared)\n",
    "R_squared = []\n",
    "for col in terms: # iterate over the remaining terms\n",
    "    X = MS([terms_fixed[0],col]).fit_transform(Credit) # add the first term to the current term\n",
    "    model = sm.OLS(y, X)\n",
    "    results = model.fit()\n",
    "    R_squared.append(1-np.linalg.norm(results.resid)**2/TSS)\n",
    "    print('term: {}, R_squared: {}'.format(col, R_squared[-1]))\n",
    "\n",
    "terms_fixed.append(terms[R_squared.index(max(R_squared))])\n",
    "print(terms_fixed)"
   ]
  },
  {
   "cell_type": "markdown",
   "id": "86a092db-136d-4cae-af10-5278edcf3e94",
   "metadata": {},
   "source": [
    "Add a third predictor "
   ]
  },
  {
   "cell_type": "code",
   "execution_count": 18,
   "id": "1728a4fe-b591-464e-90fc-5e92841e1bd7",
   "metadata": {},
   "outputs": [
    {
     "name": "stdout",
     "output_type": "stream",
     "text": [
      "['Rating', 'Income', 'Student']\n"
     ]
    }
   ],
   "source": [
    "terms.drop(terms_fixed[1])\n",
    "R_squared = []\n",
    "for col in terms:\n",
    "    X = MS([terms_fixed[0],terms_fixed[1],col]).fit_transform(Credit)\n",
    "    model = sm.OLS(y, X)\n",
    "    results = model.fit()\n",
    "    R_squared.append(1-np.linalg.norm(results.resid)**2/TSS)\n",
    "\n",
    "terms_fixed.append(terms[R_squared.index(max(R_squared))])\n",
    "print(terms_fixed)"
   ]
  },
  {
   "cell_type": "markdown",
   "id": "5561e410-0e91-458b-ae4b-3ad2e0cfc296",
   "metadata": {},
   "source": [
    "And finally, add a fourth predictor. "
   ]
  },
  {
   "cell_type": "code",
   "execution_count": 19,
   "id": "41741373-80a7-40d0-b6cc-9ac7a0dcd4b2",
   "metadata": {},
   "outputs": [
    {
     "name": "stdout",
     "output_type": "stream",
     "text": [
      "['Rating', 'Income', 'Student', 'Limit']\n"
     ]
    }
   ],
   "source": [
    "terms = terms.drop(terms[2])\n",
    "R_squared = []\n",
    "for col in terms:\n",
    "    X = MS([terms_fixed[0],terms_fixed[1],terms_fixed[2],col]).fit_transform(Credit)\n",
    "    model = sm.OLS(y, X)\n",
    "    results = model.fit()\n",
    "    R_squared.append(1-np.linalg.norm(results.resid)**2/TSS)\n",
    "\n",
    "terms_fixed.append(terms[R_squared.index(max(R_squared))])\n",
    "print(terms_fixed)"
   ]
  },
  {
   "cell_type": "markdown",
   "id": "a40804ff-3fa5-4db7-be7f-f4f9a0b4a8d4",
   "metadata": {},
   "source": [
    "Note that this agrees with Table 6.1"
   ]
  },
  {
   "cell_type": "code",
   "execution_count": null,
   "id": "530ac12f-8783-43c8-841a-ed20eb459b67",
   "metadata": {},
   "outputs": [],
   "source": []
  }
 ],
 "metadata": {
  "kernelspec": {
   "display_name": "Python 3 (ipykernel)",
   "language": "python",
   "name": "python3"
  },
  "language_info": {
   "codemirror_mode": {
    "name": "ipython",
    "version": 3
   },
   "file_extension": ".py",
   "mimetype": "text/x-python",
   "name": "python",
   "nbconvert_exporter": "python",
   "pygments_lexer": "ipython3",
   "version": "3.10.0"
  }
 },
 "nbformat": 4,
 "nbformat_minor": 5
}
