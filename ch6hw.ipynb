{
 "cells": [
  {
   "cell_type": "markdown",
   "metadata": {},
   "source": [
    "Ch6 1, 8, (more to come)"
   ]
  },
  {
   "cell_type": "code",
   "execution_count": 13,
   "metadata": {},
   "outputs": [],
   "source": [
    "import numpy as np\n",
    "import pandas as pd\n",
    "from matplotlib.pyplot import subplots\n",
    "from statsmodels.api import OLS\n",
    "import sklearn.model_selection as skm\n",
    "import sklearn.linear_model as skl\n",
    "from sklearn.preprocessing import StandardScaler\n",
    "from ISLP import load_data\n",
    "from ISLP.models import ModelSpec as MS\n",
    "from functools import partial\n",
    "\n",
    "from sklearn.pipeline import Pipeline\n",
    "from sklearn.decomposition import PCA\n",
    "from sklearn.cross_decomposition import PLSRegression\n",
    "from ISLP.models import \\\n",
    "     (Stepwise,\n",
    "      sklearn_selected,\n",
    "      sklearn_selection_path)\n",
    "# !pip install l0bnb\n",
    "from l0bnb import fit_path # fit_path is a function that fits the l0bnb model, which is a model that fits a linear model with L0 regularization\n",
    "\n",
    "from sklearn.feature_selection import SequentialFeatureSelector as SFS"
   ]
  },
  {
   "cell_type": "markdown",
   "metadata": {},
   "source": [
    "### 1\n",
    "We perform best subset, forward stepwise, and backward stepwise\n",
    "selection on a single data set. For each approach, we obtain p + 1\n",
    "models, containing 0, 1, 2, . . . , p predictors. Explain your answers:"
   ]
  },
  {
   "cell_type": "markdown",
   "metadata": {},
   "source": [
    "- a) Which of the three models with k predictors has the smallest\n",
    "training RSS?"
   ]
  },
  {
   "cell_type": "markdown",
   "metadata": {},
   "source": [
    "The model with k predictors that has the smallest training RSS will be the one that used best subset selection. This is because best subset selection considers all possible models with k predictors and selects the best one. Forward and backward stepwise selection do not consider all possible models with k predictors, so they may miss the best model."
   ]
  },
  {
   "cell_type": "markdown",
   "metadata": {},
   "source": [
    "- b) Which of the three models with k predictors has the smallest test RSS?"
   ]
  },
  {
   "cell_type": "markdown",
   "metadata": {},
   "source": [
    "Best subset selection would most likely have the smallest test RSS. This is because best subset selection considers all possible models with k predictors and selects the best one. Forward and backward stepwise selection do not consider all possible models, however they may still find the best model by chance."
   ]
  },
  {
   "cell_type": "markdown",
   "metadata": {},
   "source": [
    "- c) True or False:"
   ]
  },
  {
   "cell_type": "markdown",
   "metadata": {},
   "source": [
    "- - i. The predictors in the k-variable model identified by forward\n",
    "stepwise are a subset of the predictors in the (k +1)-variable\n",
    "model identified by forward stepwise selection."
   ]
  },
  {
   "cell_type": "markdown",
   "metadata": {},
   "source": [
    "True.  The model with k+1 is an augmented version of the model with k predictors."
   ]
  },
  {
   "cell_type": "markdown",
   "metadata": {},
   "source": [
    "- - ii. The predictors in the k-variable model identified by back-\n",
    "ward stepwise are a subset of the predictors in the (k + 1)-\n",
    "variable model identified by backward stepwise selection."
   ]
  },
  {
   "cell_type": "markdown",
   "metadata": {},
   "source": [
    "True.  The model with k is created by removing a predictor from the model with k+1 predictors."
   ]
  },
  {
   "cell_type": "markdown",
   "metadata": {},
   "source": [
    "- - iii. The predictors in the k-variable model identified by back-\n",
    "ward stepwise are a subset of the predictors in the (k + 1)-\n",
    "variable model identified by forward stepwise selection."
   ]
  },
  {
   "cell_type": "markdown",
   "metadata": {},
   "source": [
    "False.  There is no connection here."
   ]
  },
  {
   "cell_type": "markdown",
   "metadata": {},
   "source": [
    "- - iv. The predictors in the k-variable model identified by forward\n",
    "stepwise are a subset of the predictors in the (k +1)-variable\n",
    "model identified by backward stepwise selection."
   ]
  },
  {
   "cell_type": "markdown",
   "metadata": {},
   "source": [
    "False. No connection."
   ]
  },
  {
   "cell_type": "markdown",
   "metadata": {},
   "source": [
    "- - v. The predictors in the k-variable model identified by best\n",
    "subset are a subset of the predictors in the (k + 1)-variable\n",
    "model identified by best subset selection."
   ]
  },
  {
   "cell_type": "markdown",
   "metadata": {},
   "source": [
    "False.  The model with k+1 selects from all possible models with k+1 predictors, so it may not be a subset of the model with k predictors (predictors may be added or removed)."
   ]
  },
  {
   "cell_type": "markdown",
   "metadata": {},
   "source": [
    "### 8\n",
    "In this exercise, we will generate simulated data, and will then use\n",
    "this data to perform forward and backward stepwise selection."
   ]
  },
  {
   "cell_type": "markdown",
   "metadata": {},
   "source": [
    "- a) Create a random number generator and use its normal() method\n",
    "to generate a predictor X of length n = 100, as well as a noise\n",
    "vector \" of length n = 100."
   ]
  },
  {
   "cell_type": "code",
   "execution_count": 32,
   "metadata": {},
   "outputs": [],
   "source": [
    "def numGen(n):\n",
    "    np.random.seed(42)\n",
    "    return np.random.normal(size=n)\n",
    "\n",
    "n = 100\n",
    "X = numGen(n)\n",
    "noise = numGen(n)"
   ]
  },
  {
   "cell_type": "markdown",
   "metadata": {},
   "source": [
    "- b) Generate a response vector Y of length n = 100 according to the model\n",
    "$$\n",
    "Y = \\beta_0 + \\beta_1X + \\beta_2X^2 + \\beta_3X^3 + \\epsilon\n",
    "$$ ,\n",
    "where $\\beta_0$, $\\beta_1$, $\\beta_2$, and $\\beta_3$ are constants of your choice."
   ]
  },
  {
   "cell_type": "code",
   "execution_count": 33,
   "metadata": {},
   "outputs": [],
   "source": [
    "beta = np.array([4, 3, 2, 1])\n",
    "Y = beta[0] + beta[1]*X + beta[2]*X**2 + beta[3]*X**3 + noise"
   ]
  },
  {
   "cell_type": "code",
   "execution_count": 4,
   "metadata": {},
   "outputs": [
    {
     "name": "stderr",
     "output_type": "stream",
     "text": [
      "/tmp/ipykernel_28763/1526155891.py:7: UserWarning: FigureCanvasAgg is non-interactive, and thus cannot be shown\n",
      "  fig.show()\n"
     ]
    },
    {
     "data": {
      "image/png": "[encoded data removed]",
      "text/plain": [
       "<Figure size 640x480 with 1 Axes>"
      ]
     },
     "metadata": {},
     "output_type": "display_data"
    }
   ],
   "source": [
    "# plot the data\n",
    "fig, ax = subplots()\n",
    "ax.scatter(X, Y)\n",
    "ax.set_xlabel('X')\n",
    "ax.set_ylabel('Y')\n",
    "ax.set_title('Scatter plot of X vs Y')\n",
    "fig.show()"
   ]
  },
  {
   "cell_type": "markdown",
   "metadata": {},
   "source": [
    "- c) Use forward stepwise selection to select a model containing the predictors $X, X^2, ... , X^{10}$. What is the model obtained according to $C_p$? Report the coeffecients of the model obtained."
   ]
  },
  {
   "cell_type": "code",
   "execution_count": 5,
   "metadata": {},
   "outputs": [],
   "source": [
    "def nCp(sigma2, estimator, X, Y): # negative Cp statistic\n",
    "    \"Negative Cp statistic\"\n",
    "    n, p = X.shape\n",
    "    Yhat = estimator.predict(X)\n",
    "    RSS = np.sum((Y - Yhat)**2)\n",
    "    return -(RSS + 2 * p * sigma2) / n "
   ]
  },
  {
   "cell_type": "code",
   "execution_count": 12,
   "metadata": {},
   "outputs": [
    {
     "data": {
      "text/plain": [
       "('X^1', 'X^2', 'X^3')"
      ]
     },
     "execution_count": 12,
     "metadata": {},
     "output_type": "execute_result"
    }
   ],
   "source": [
    "# create a dataframe with the predictors and the response\n",
    "df = pd.DataFrame({'Y': Y})\n",
    "for i in range(1, 11):\n",
    "    df[f'X^{i}'] = X**i\n",
    "# move the response to the last column\n",
    "df = df[['X^1', 'X^2', 'X^3', 'X^4', 'X^5', 'X^6', 'X^7', 'X^8', 'X^9', 'X^10', 'Y']]\n",
    "\n",
    "design = MS(df.columns.drop('Y')).fit(df) # fit a model spec to the data (MS is a class that represents a model specification, which is a set of features)\n",
    "Y = np.array(df['Y']) # the response variable\n",
    "X = design.transform(df) # the design matrix with predictors\n",
    "sigma2 = OLS(Y,X).fit().scale # the residual variance of the OLS model, .scale is the residual variance of the OLS model\n",
    "\n",
    "neg_Cp = partial(nCp, sigma2)\n",
    "\n",
    "strategy = Stepwise.first_peak(design,\n",
    "                               direction='forward',\n",
    "                               max_terms=len(design.terms))\n",
    "\n",
    "df_Cp = sklearn_selected(OLS,\n",
    "                               strategy,\n",
    "                               scoring=neg_Cp)\n",
    "df_Cp.fit(df, Y)\n",
    "df_Cp.selected_state_"
   ]
  },
  {
   "cell_type": "markdown",
   "metadata": {},
   "source": [
    "The coefs from forward selection are the ones that were used to generate the data.  The added predictors are not significant, so they are not included in the model."
   ]
  },
  {
   "cell_type": "markdown",
   "metadata": {},
   "source": [
    "- d) Repeat (c), using backwards stepwise selection. How does your\n",
    "answer compare to the results in (c)?"
   ]
  },
  {
   "cell_type": "code",
   "execution_count": 30,
   "metadata": {},
   "outputs": [
    {
     "data": {
      "text/plain": [
       "Index(['X^1', 'X^2', 'X^3'], dtype='object')"
      ]
     },
     "execution_count": 30,
     "metadata": {},
     "output_type": "execute_result"
    }
   ],
   "source": [
    "# use SFS for backward selection\n",
    "# will need linear regression as the estimator\n",
    "\n",
    "from sklearn.linear_model import LinearRegression\n",
    "\n",
    "\n",
    "sfs = SFS(LinearRegression(),\n",
    "            n_features_to_select=3,\n",
    "            direction='backward',\n",
    "            scoring=neg_Cp,\n",
    "            cv=5)\n",
    "\n",
    "sfs.fit(X, Y)\n",
    "# get the selected features\n",
    "# use the boolean array sfs.get_support() to get the selected features from X\n",
    "selected_features = X.columns[sfs.get_support()]\n",
    "selected_features"
   ]
  },
  {
   "cell_type": "markdown",
   "metadata": {},
   "source": [
    "- e) Now fit a lasso model to the simulated data, again using $X, X^2, ... , X^{10}$ as predictors. Use cross-validation to select the optimal\n",
    "value of λ. Create plots of the cross-validation error as a function\n",
    "of λ. Report the resulting coefficient estimates, and discuss the\n",
    "results obtained."
   ]
  },
  {
   "cell_type": "code",
   "execution_count": 39,
   "metadata": {},
   "outputs": [
    {
     "data": {
      "text/plain": [
       "0.005125520522691081"
      ]
     },
     "execution_count": 39,
     "metadata": {},
     "output_type": "execute_result"
    }
   ],
   "source": [
    "kfold = skm.KFold(n_splits=5, shuffle=True, random_state=42)\n",
    "scaler = StandardScaler()\n",
    "\n",
    "lassoCV = skl.ElasticNetCV(n_alphas=100, \n",
    "                           l1_ratio=1,\n",
    "                           cv=kfold)\n",
    "pipeCV = Pipeline(steps=[('scaler', scaler),\n",
    "                         ('lasso', lassoCV)])\n",
    "pipeCV.fit(X.reshape(-1,1), Y)\n",
    "tuned_lasso = pipeCV.named_steps['lasso']\n",
    "tuned_lasso.alpha_\n",
    "\n",
    "# TODO: the rest"
   ]
  },
  {
   "cell_type": "markdown",
   "metadata": {},
   "source": [
    "- f) Now generate a response vector Y according to the model\n",
    "$$\n",
    "Y = \\beta_0 + \\beta_1X + \\beta_2X^2 + \\beta_3X^3 + \\epsilon\n",
    "$$\n",
    "and perform stepwise selection and the lasso. Discuss the results obtained."
   ]
  }
 ],
 "metadata": {
  "kernelspec": {
   "display_name": "mathenv",
   "language": "python",
   "name": "python3"
  },
  "language_info": {
   "codemirror_mode": {
    "name": "ipython",
    "version": 3
   },
   "file_extension": ".py",
   "mimetype": "text/x-python",
   "name": "python",
   "nbconvert_exporter": "python",
   "pygments_lexer": "ipython3",
   "version": "3.10.0"
  }
 },
 "nbformat": 4,
 "nbformat_minor": 2
}
