{
 "cells": [
  {
   "cell_type": "markdown",
   "metadata": {},
   "source": [
    "Ch6 1, 8, (more to come)"
   ]
  },
  {
   "cell_type": "markdown",
   "metadata": {},
   "source": [
    "### 1\n",
    "We perform best subset, forward stepwise, and backward stepwise\n",
    "selection on a single data set. For each approach, we obtain p + 1\n",
    "models, containing 0, 1, 2, . . . , p predictors. Explain your answers:"
   ]
  },
  {
   "cell_type": "markdown",
   "metadata": {},
   "source": [
    "- a) Which of the three models with k predictors has the smallest\n",
    "training RSS?"
   ]
  },
  {
   "cell_type": "markdown",
   "metadata": {},
   "source": [
    "- b) Which of the three models with k predictors has the smallest test RSS?"
   ]
  },
  {
   "cell_type": "markdown",
   "metadata": {},
   "source": [
    "- c) True or False:"
   ]
  },
  {
   "cell_type": "markdown",
   "metadata": {},
   "source": [
    "- - i. The predictors in the k-variable model identified by forward\n",
    "stepwise are a subset of the predictors in the (k +1)-variable\n",
    "model identified by forward stepwise selection."
   ]
  },
  {
   "cell_type": "markdown",
   "metadata": {},
   "source": [
    "- - ii. The predictors in the k-variable model identified by back-\n",
    "ward stepwise are a subset of the predictors in the (k + 1)-\n",
    "variable model identified by backward stepwise selection."
   ]
  },
  {
   "cell_type": "markdown",
   "metadata": {},
   "source": [
    "- - iii. The predictors in the k-variable model identified by back-\n",
    "ward stepwise are a subset of the predictors in the (k + 1)-\n",
    "variable model identified by forward stepwise selection."
   ]
  },
  {
   "cell_type": "markdown",
   "metadata": {},
   "source": [
    "- - iv. The predictors in the k-variable model identified by forward\n",
    "stepwise are a subset of the predictors in the (k +1)-variable\n",
    "model identified by backward stepwise selection."
   ]
  },
  {
   "cell_type": "markdown",
   "metadata": {},
   "source": [
    "- - v. The predictors in the k-variable model identified by best\n",
    "subset are a subset of the predictors in the (k + 1)-variable\n",
    "model identified by best subset selection."
   ]
  },
  {
   "cell_type": "markdown",
   "metadata": {},
   "source": [
    "### 8\n",
    "In this exercise, we will generate simulated data, and will then use\n",
    "this data to perform forward and backward stepwise selection."
   ]
  },
  {
   "cell_type": "markdown",
   "metadata": {},
   "source": [
    "- a) Create a random number generator and use its normal() method\n",
    "to generate a predictor X of length n = 100, as well as a noise\n",
    "vector \" of length n = 100."
   ]
  },
  {
   "cell_type": "markdown",
   "metadata": {},
   "source": [
    "- b) Generate a response vector Y of length n = 100 according to the model\n",
    "$$\n",
    "Y = \\beta_0 + \\beta_1X + \\beta_2X^2 + \\beta_3X^3 + \\epsilon\n",
    "$$ ,\n",
    "where $\\beta_0$, $\\beta_1$, $\\beta_2$, and $\\beta_3$ are constants of your choice."
   ]
  },
  {
   "cell_type": "markdown",
   "metadata": {},
   "source": [
    "- c) Use forward stepwise selection to select a model containing the predictors $X, X^2, ... , X^{10}$. What is the model obtained according to $C_p$? Report the coeffecients of the model obtained."
   ]
  },
  {
   "cell_type": "markdown",
   "metadata": {},
   "source": [
    "- d) Repeat (c), using backwards stepwise selection. How does your\n",
    "answer compare to the results in (c)?"
   ]
  },
  {
   "cell_type": "markdown",
   "metadata": {},
   "source": [
    "- e) Now fit a lasso model to the simulated data, again using $X, X^2, ... , X^{10}$ as predictors. Use cross-validation to select the optimal\n",
    "value of λ. Create plots of the cross-validation error as a function\n",
    "of λ. Report the resulting coefficient estimates, and discuss the\n",
    "results obtained."
   ]
  },
  {
   "cell_type": "markdown",
   "metadata": {},
   "source": [
    "- f) Now generate a response vector Y according to the model\n",
    "$$\n",
    "Y = \\beta_0 + \\beta_1X + \\beta_2X^2 + \\beta_3X^3 + \\epsilon\n",
    "$$\n",
    "and perform stepwise selection and the lasso. Discuss the results obtained."
   ]
  }
 ],
 "metadata": {
  "language_info": {
   "name": "python"
  }
 },
 "nbformat": 4,
 "nbformat_minor": 2
}
